{
 "cells": [
  {
   "cell_type": "markdown",
   "metadata": {},
   "source": [
    "## Measuring bias\n",
    "<br>\n",
    "Fairness analysis of adult income dataset. \n",
    "<br>\n",
    "Dataset: https://archive.ics.uci.edu/ml/datasets/adult"
   ]
  },
  {
   "cell_type": "code",
   "execution_count": 1,
   "metadata": {},
   "outputs": [],
   "source": [
    "import numpy as np\n",
    "import pandas as pd\n",
    "import matplotlib.pyplot as plt\n",
    "\n",
    "import xgboost as xgb\n",
    "from xgboost import plot_importance\n",
    "\n",
    "from sklearn.metrics import accuracy_score,confusion_matrix\n",
    "from sklearn.metrics import classification_report\n",
    "from sklearn.feature_selection import mutual_info_classif\n",
    "\n",
    "import shap\n",
    "path = \"/Users/conorosully/Google Drive/My Drive/Medium/AF - Measuring Bias/{}\""
   ]
  },
  {
   "cell_type": "code",
   "execution_count": 2,
   "metadata": {},
   "outputs": [
    {
     "name": "stdout",
     "output_type": "stream",
     "text": [
      "45222\n"
     ]
    },
    {
     "data": {
      "text/html": [
       "<div>\n",
       "<style scoped>\n",
       "    .dataframe tbody tr th:only-of-type {\n",
       "        vertical-align: middle;\n",
       "    }\n",
       "\n",
       "    .dataframe tbody tr th {\n",
       "        vertical-align: top;\n",
       "    }\n",
       "\n",
       "    .dataframe thead th {\n",
       "        text-align: right;\n",
       "    }\n",
       "</style>\n",
       "<table border=\"1\" class=\"dataframe\">\n",
       "  <thead>\n",
       "    <tr style=\"text-align: right;\">\n",
       "      <th></th>\n",
       "      <th>age</th>\n",
       "      <th>workclass</th>\n",
       "      <th>fnlwgt</th>\n",
       "      <th>education</th>\n",
       "      <th>education-num</th>\n",
       "      <th>marital-status</th>\n",
       "      <th>occupation</th>\n",
       "      <th>relationship</th>\n",
       "      <th>race</th>\n",
       "      <th>sex</th>\n",
       "      <th>capital-gain</th>\n",
       "      <th>capital-loss</th>\n",
       "      <th>hours-per-week</th>\n",
       "      <th>native-country</th>\n",
       "      <th>y</th>\n",
       "    </tr>\n",
       "  </thead>\n",
       "  <tbody>\n",
       "    <tr>\n",
       "      <th>0</th>\n",
       "      <td>39</td>\n",
       "      <td>State-gov</td>\n",
       "      <td>77516</td>\n",
       "      <td>Bachelors</td>\n",
       "      <td>13</td>\n",
       "      <td>Never-married</td>\n",
       "      <td>Adm-clerical</td>\n",
       "      <td>Not-in-family</td>\n",
       "      <td>White</td>\n",
       "      <td>Male</td>\n",
       "      <td>2174</td>\n",
       "      <td>0</td>\n",
       "      <td>40</td>\n",
       "      <td>United-States</td>\n",
       "      <td>&lt;=50K</td>\n",
       "    </tr>\n",
       "    <tr>\n",
       "      <th>1</th>\n",
       "      <td>50</td>\n",
       "      <td>Self-emp-not-inc</td>\n",
       "      <td>83311</td>\n",
       "      <td>Bachelors</td>\n",
       "      <td>13</td>\n",
       "      <td>Married-civ-spouse</td>\n",
       "      <td>Exec-managerial</td>\n",
       "      <td>Husband</td>\n",
       "      <td>White</td>\n",
       "      <td>Male</td>\n",
       "      <td>0</td>\n",
       "      <td>0</td>\n",
       "      <td>13</td>\n",
       "      <td>United-States</td>\n",
       "      <td>&lt;=50K</td>\n",
       "    </tr>\n",
       "    <tr>\n",
       "      <th>2</th>\n",
       "      <td>38</td>\n",
       "      <td>Private</td>\n",
       "      <td>215646</td>\n",
       "      <td>HS-grad</td>\n",
       "      <td>9</td>\n",
       "      <td>Divorced</td>\n",
       "      <td>Handlers-cleaners</td>\n",
       "      <td>Not-in-family</td>\n",
       "      <td>White</td>\n",
       "      <td>Male</td>\n",
       "      <td>0</td>\n",
       "      <td>0</td>\n",
       "      <td>40</td>\n",
       "      <td>United-States</td>\n",
       "      <td>&lt;=50K</td>\n",
       "    </tr>\n",
       "    <tr>\n",
       "      <th>3</th>\n",
       "      <td>53</td>\n",
       "      <td>Private</td>\n",
       "      <td>234721</td>\n",
       "      <td>11th</td>\n",
       "      <td>7</td>\n",
       "      <td>Married-civ-spouse</td>\n",
       "      <td>Handlers-cleaners</td>\n",
       "      <td>Husband</td>\n",
       "      <td>Black</td>\n",
       "      <td>Male</td>\n",
       "      <td>0</td>\n",
       "      <td>0</td>\n",
       "      <td>40</td>\n",
       "      <td>United-States</td>\n",
       "      <td>&lt;=50K</td>\n",
       "    </tr>\n",
       "    <tr>\n",
       "      <th>4</th>\n",
       "      <td>28</td>\n",
       "      <td>Private</td>\n",
       "      <td>338409</td>\n",
       "      <td>Bachelors</td>\n",
       "      <td>13</td>\n",
       "      <td>Married-civ-spouse</td>\n",
       "      <td>Prof-specialty</td>\n",
       "      <td>Wife</td>\n",
       "      <td>Black</td>\n",
       "      <td>Female</td>\n",
       "      <td>0</td>\n",
       "      <td>0</td>\n",
       "      <td>40</td>\n",
       "      <td>Cuba</td>\n",
       "      <td>&lt;=50K</td>\n",
       "    </tr>\n",
       "  </tbody>\n",
       "</table>\n",
       "</div>"
      ],
      "text/plain": [
       "   age         workclass  fnlwgt  education  education-num  \\\n",
       "0   39         State-gov   77516  Bachelors             13   \n",
       "1   50  Self-emp-not-inc   83311  Bachelors             13   \n",
       "2   38           Private  215646    HS-grad              9   \n",
       "3   53           Private  234721       11th              7   \n",
       "4   28           Private  338409  Bachelors             13   \n",
       "\n",
       "       marital-status         occupation   relationship   race     sex  \\\n",
       "0       Never-married       Adm-clerical  Not-in-family  White    Male   \n",
       "1  Married-civ-spouse    Exec-managerial        Husband  White    Male   \n",
       "2            Divorced  Handlers-cleaners  Not-in-family  White    Male   \n",
       "3  Married-civ-spouse  Handlers-cleaners        Husband  Black    Male   \n",
       "4  Married-civ-spouse     Prof-specialty           Wife  Black  Female   \n",
       "\n",
       "   capital-gain  capital-loss  hours-per-week native-country      y  \n",
       "0          2174             0              40  United-States  <=50K  \n",
       "1             0             0              13  United-States  <=50K  \n",
       "2             0             0              40  United-States  <=50K  \n",
       "3             0             0              40  United-States  <=50K  \n",
       "4             0             0              40           Cuba  <=50K  "
      ]
     },
     "execution_count": 2,
     "metadata": {},
     "output_type": "execute_result"
    }
   ],
   "source": [
    "names = ['age','workclass','fnlwgt','education','education-num',\n",
    "        'marital-status','occupation','relationship','race','sex',\n",
    "        'capital-gain','capital-loss','hours-per-week','native-country',\n",
    "        'y']\n",
    "\n",
    "#Load dataset\n",
    "df = pd.read_csv('../../data/adult-all.csv',names=names,na_values='?')\n",
    "df = df.dropna()\n",
    "\n",
    "print(len(df))\n",
    "df.head()"
   ]
  },
  {
   "cell_type": "code",
   "execution_count": 4,
   "metadata": {},
   "outputs": [
    {
     "data": {
      "text/html": [
       "<div>\n",
       "<style scoped>\n",
       "    .dataframe tbody tr th:only-of-type {\n",
       "        vertical-align: middle;\n",
       "    }\n",
       "\n",
       "    .dataframe tbody tr th {\n",
       "        vertical-align: top;\n",
       "    }\n",
       "\n",
       "    .dataframe thead th {\n",
       "        text-align: right;\n",
       "    }\n",
       "</style>\n",
       "<table border=\"1\" class=\"dataframe\">\n",
       "  <thead>\n",
       "    <tr style=\"text-align: right;\">\n",
       "      <th></th>\n",
       "      <th>age</th>\n",
       "      <th>education-num</th>\n",
       "      <th>marital-status</th>\n",
       "      <th>occupation</th>\n",
       "      <th>hours-per-week</th>\n",
       "      <th>native-country</th>\n",
       "      <th>race</th>\n",
       "      <th>sex</th>\n",
       "      <th>y</th>\n",
       "    </tr>\n",
       "  </thead>\n",
       "  <tbody>\n",
       "    <tr>\n",
       "      <th>0</th>\n",
       "      <td>39</td>\n",
       "      <td>13</td>\n",
       "      <td>Never-married</td>\n",
       "      <td>Adm-clerical</td>\n",
       "      <td>40</td>\n",
       "      <td>United-States</td>\n",
       "      <td>White</td>\n",
       "      <td>Male</td>\n",
       "      <td>&lt;=50K</td>\n",
       "    </tr>\n",
       "    <tr>\n",
       "      <th>1</th>\n",
       "      <td>50</td>\n",
       "      <td>13</td>\n",
       "      <td>Married-civ-spouse</td>\n",
       "      <td>Exec-managerial</td>\n",
       "      <td>13</td>\n",
       "      <td>United-States</td>\n",
       "      <td>White</td>\n",
       "      <td>Male</td>\n",
       "      <td>&lt;=50K</td>\n",
       "    </tr>\n",
       "    <tr>\n",
       "      <th>2</th>\n",
       "      <td>38</td>\n",
       "      <td>9</td>\n",
       "      <td>Divorced</td>\n",
       "      <td>Handlers-cleaners</td>\n",
       "      <td>40</td>\n",
       "      <td>United-States</td>\n",
       "      <td>White</td>\n",
       "      <td>Male</td>\n",
       "      <td>&lt;=50K</td>\n",
       "    </tr>\n",
       "    <tr>\n",
       "      <th>3</th>\n",
       "      <td>53</td>\n",
       "      <td>7</td>\n",
       "      <td>Married-civ-spouse</td>\n",
       "      <td>Handlers-cleaners</td>\n",
       "      <td>40</td>\n",
       "      <td>United-States</td>\n",
       "      <td>Black</td>\n",
       "      <td>Male</td>\n",
       "      <td>&lt;=50K</td>\n",
       "    </tr>\n",
       "    <tr>\n",
       "      <th>4</th>\n",
       "      <td>28</td>\n",
       "      <td>13</td>\n",
       "      <td>Married-civ-spouse</td>\n",
       "      <td>Prof-specialty</td>\n",
       "      <td>40</td>\n",
       "      <td>Cuba</td>\n",
       "      <td>Black</td>\n",
       "      <td>Female</td>\n",
       "      <td>&lt;=50K</td>\n",
       "    </tr>\n",
       "    <tr>\n",
       "      <th>5</th>\n",
       "      <td>37</td>\n",
       "      <td>14</td>\n",
       "      <td>Married-civ-spouse</td>\n",
       "      <td>Exec-managerial</td>\n",
       "      <td>40</td>\n",
       "      <td>United-States</td>\n",
       "      <td>White</td>\n",
       "      <td>Female</td>\n",
       "      <td>&lt;=50K</td>\n",
       "    </tr>\n",
       "    <tr>\n",
       "      <th>6</th>\n",
       "      <td>49</td>\n",
       "      <td>5</td>\n",
       "      <td>Married-spouse-absent</td>\n",
       "      <td>Other-service</td>\n",
       "      <td>16</td>\n",
       "      <td>Jamaica</td>\n",
       "      <td>Black</td>\n",
       "      <td>Female</td>\n",
       "      <td>&lt;=50K</td>\n",
       "    </tr>\n",
       "    <tr>\n",
       "      <th>7</th>\n",
       "      <td>52</td>\n",
       "      <td>9</td>\n",
       "      <td>Married-civ-spouse</td>\n",
       "      <td>Exec-managerial</td>\n",
       "      <td>45</td>\n",
       "      <td>United-States</td>\n",
       "      <td>White</td>\n",
       "      <td>Male</td>\n",
       "      <td>&gt;50K</td>\n",
       "    </tr>\n",
       "    <tr>\n",
       "      <th>8</th>\n",
       "      <td>31</td>\n",
       "      <td>14</td>\n",
       "      <td>Never-married</td>\n",
       "      <td>Prof-specialty</td>\n",
       "      <td>50</td>\n",
       "      <td>United-States</td>\n",
       "      <td>White</td>\n",
       "      <td>Female</td>\n",
       "      <td>&gt;50K</td>\n",
       "    </tr>\n",
       "    <tr>\n",
       "      <th>9</th>\n",
       "      <td>42</td>\n",
       "      <td>13</td>\n",
       "      <td>Married-civ-spouse</td>\n",
       "      <td>Exec-managerial</td>\n",
       "      <td>40</td>\n",
       "      <td>United-States</td>\n",
       "      <td>White</td>\n",
       "      <td>Male</td>\n",
       "      <td>&gt;50K</td>\n",
       "    </tr>\n",
       "  </tbody>\n",
       "</table>\n",
       "</div>"
      ],
      "text/plain": [
       "   age  education-num         marital-status         occupation  \\\n",
       "0   39             13          Never-married       Adm-clerical   \n",
       "1   50             13     Married-civ-spouse    Exec-managerial   \n",
       "2   38              9               Divorced  Handlers-cleaners   \n",
       "3   53              7     Married-civ-spouse  Handlers-cleaners   \n",
       "4   28             13     Married-civ-spouse     Prof-specialty   \n",
       "5   37             14     Married-civ-spouse    Exec-managerial   \n",
       "6   49              5  Married-spouse-absent      Other-service   \n",
       "7   52              9     Married-civ-spouse    Exec-managerial   \n",
       "8   31             14          Never-married     Prof-specialty   \n",
       "9   42             13     Married-civ-spouse    Exec-managerial   \n",
       "\n",
       "   hours-per-week native-country   race     sex      y  \n",
       "0              40  United-States  White    Male  <=50K  \n",
       "1              13  United-States  White    Male  <=50K  \n",
       "2              40  United-States  White    Male  <=50K  \n",
       "3              40  United-States  Black    Male  <=50K  \n",
       "4              40           Cuba  Black  Female  <=50K  \n",
       "5              40  United-States  White  Female  <=50K  \n",
       "6              16        Jamaica  Black  Female  <=50K  \n",
       "7              45  United-States  White    Male   >50K  \n",
       "8              50  United-States  White  Female   >50K  \n",
       "9              40  United-States  White    Male   >50K  "
      ]
     },
     "execution_count": 4,
     "metadata": {},
     "output_type": "execute_result"
    }
   ],
   "source": [
    "#Snap shot of dataset\n",
    "df[['age','education-num','marital-status','occupation',\n",
    "    'hours-per-week','native-country',\n",
    "    'race','sex','y']].head(10)"
   ]
  },
  {
   "cell_type": "markdown",
   "metadata": {},
   "source": [
    "# Exploratory analysis"
   ]
  },
  {
   "cell_type": "markdown",
   "metadata": {},
   "source": [
    "## Unbalanced datasets"
   ]
  },
  {
   "cell_type": "code",
   "execution_count": 5,
   "metadata": {},
   "outputs": [
    {
     "data": {
      "image/png": "[encoded data removed]",
      "text/plain": [
       "<Figure size 1008x504 with 2 Axes>"
      ]
     },
     "metadata": {},
     "output_type": "display_data"
    }
   ],
   "source": [
    "plt.figure(figsize=(14, 7))\n",
    "plt.subplot(121)\n",
    "\n",
    "#Plot breakdown by race\n",
    "counts = df['race'].value_counts()\n",
    "labels = counts.index\n",
    "\n",
    "plt.pie(counts, startangle=90)\n",
    "plt.legend(labels, loc=2,fontsize=15)\n",
    "plt.title(\"Race\",size=20)\n",
    "\n",
    "plt.subplot(122)\n",
    "\n",
    "#Plot breakdown by sex\n",
    "counts = df['sex'].value_counts()\n",
    "labels = counts.index\n",
    "\n",
    "plt.pie(counts, startangle=90)\n",
    "plt.legend(labels, loc=2,fontsize=15)\n",
    "plt.title(\"Sex\",size=20)\n",
    "\n",
    "\n",
    "plt.tight_layout(pad=2)\n",
    "plt.savefig(path.format('unbalnced_datsets.png'),format='png',dpi=150)"
   ]
  },
  {
   "cell_type": "markdown",
   "metadata": {},
   "source": [
    "## Defining protected features"
   ]
  },
  {
   "cell_type": "code",
   "execution_count": 6,
   "metadata": {},
   "outputs": [
    {
     "name": "stderr",
     "output_type": "stream",
     "text": [
      "\n",
      "A value is trying to be set on a copy of a slice from a DataFrame.\n",
      "Try using .loc[row_indexer,col_indexer] = value instead\n",
      "\n",
      "See the caveats in the documentation: http://pandas.pydata.org/pandas-docs/stable/indexing.html#indexing-view-versus-copy\n",
      "\n",
      "A value is trying to be set on a copy of a slice from a DataFrame.\n",
      "Try using .loc[row_indexer,col_indexer] = value instead\n",
      "\n",
      "See the caveats in the documentation: http://pandas.pydata.org/pandas-docs/stable/indexing.html#indexing-view-versus-copy\n",
      "\n",
      "A value is trying to be set on a copy of a slice from a DataFrame.\n",
      "Try using .loc[row_indexer,col_indexer] = value instead\n",
      "\n",
      "See the caveats in the documentation: http://pandas.pydata.org/pandas-docs/stable/indexing.html#indexing-view-versus-copy\n"
     ]
    },
    {
     "data": {
      "text/html": [
       "<div>\n",
       "<style scoped>\n",
       "    .dataframe tbody tr th:only-of-type {\n",
       "        vertical-align: middle;\n",
       "    }\n",
       "\n",
       "    .dataframe tbody tr th {\n",
       "        vertical-align: top;\n",
       "    }\n",
       "\n",
       "    .dataframe thead th {\n",
       "        text-align: right;\n",
       "    }\n",
       "</style>\n",
       "<table border=\"1\" class=\"dataframe\">\n",
       "  <thead>\n",
       "    <tr style=\"text-align: right;\">\n",
       "      <th></th>\n",
       "      <th>race</th>\n",
       "      <th>sex</th>\n",
       "      <th>priv_race</th>\n",
       "      <th>priv_sex</th>\n",
       "      <th>y</th>\n",
       "    </tr>\n",
       "  </thead>\n",
       "  <tbody>\n",
       "    <tr>\n",
       "      <th>0</th>\n",
       "      <td>White</td>\n",
       "      <td>Male</td>\n",
       "      <td>1</td>\n",
       "      <td>1</td>\n",
       "      <td>0</td>\n",
       "    </tr>\n",
       "    <tr>\n",
       "      <th>1</th>\n",
       "      <td>White</td>\n",
       "      <td>Male</td>\n",
       "      <td>1</td>\n",
       "      <td>1</td>\n",
       "      <td>0</td>\n",
       "    </tr>\n",
       "    <tr>\n",
       "      <th>2</th>\n",
       "      <td>White</td>\n",
       "      <td>Male</td>\n",
       "      <td>1</td>\n",
       "      <td>1</td>\n",
       "      <td>0</td>\n",
       "    </tr>\n",
       "    <tr>\n",
       "      <th>3</th>\n",
       "      <td>Black</td>\n",
       "      <td>Male</td>\n",
       "      <td>0</td>\n",
       "      <td>1</td>\n",
       "      <td>0</td>\n",
       "    </tr>\n",
       "    <tr>\n",
       "      <th>4</th>\n",
       "      <td>Black</td>\n",
       "      <td>Female</td>\n",
       "      <td>0</td>\n",
       "      <td>0</td>\n",
       "      <td>0</td>\n",
       "    </tr>\n",
       "  </tbody>\n",
       "</table>\n",
       "</div>"
      ],
      "text/plain": [
       "    race     sex  priv_race  priv_sex  y\n",
       "0  White    Male          1         1  0\n",
       "1  White    Male          1         1  0\n",
       "2  White    Male          1         1  0\n",
       "3  Black    Male          0         1  0\n",
       "4  Black  Female          0         0  0"
      ]
     },
     "execution_count": 6,
     "metadata": {},
     "output_type": "execute_result"
    }
   ],
   "source": [
    "df_fair = df[['race','sex']]\n",
    "\n",
    "#Define protected variables \n",
    "df_fair['priv_race'] = [1 if r=='White' else 0 for r in df_fair['race']]\n",
    "df_fair['priv_sex'] = [1 if s=='Male' else 0 for s in df_fair['sex']]\n",
    "\n",
    "#Define target variable \n",
    "df_fair['y'] =  [1 if y == '>50K'else 0 for y in df['y']]\n",
    "\n",
    "df_fair.head()"
   ]
  },
  {
   "cell_type": "markdown",
   "metadata": {},
   "source": [
    "## Prevelance"
   ]
  },
  {
   "cell_type": "code",
   "execution_count": 7,
   "metadata": {},
   "outputs": [
    {
     "name": "stdout",
     "output_type": "stream",
     "text": [
      "0.2478439697492371\n",
      "priv_race\n",
      "0    0.158411\n",
      "1    0.262371\n",
      "Name: y, dtype: float64\n",
      "priv_sex\n",
      "0    0.113576\n",
      "1    0.312477\n",
      "Name: y, dtype: float64\n",
      "priv_race  priv_sex\n",
      "0          0           0.076102\n",
      "           1           0.224408\n",
      "1          0           0.122444\n",
      "           1           0.323908\n",
      "Name: y, dtype: float64\n"
     ]
    }
   ],
   "source": [
    "#Calculate prevelance\n",
    "prev = df_fair['y'].mean()\n",
    "prev_race = df_fair.groupby('priv_race')['y'].mean()\n",
    "prev_sex = df_fair.groupby('priv_sex')['y'].mean()\n",
    "prev_comb = df_fair.groupby(['priv_race','priv_sex'])['y'].mean()\n",
    "\n",
    "print(prev)\n",
    "print(prev_race)\n",
    "print(prev_sex)\n",
    "print(prev_comb)"
   ]
  },
  {
   "cell_type": "markdown",
   "metadata": {},
   "source": [
    "## Proxy Variable"
   ]
  },
  {
   "cell_type": "code",
   "execution_count": 8,
   "metadata": {},
   "outputs": [
    {
     "name": "stderr",
     "output_type": "stream",
     "text": [
      "\n",
      "A value is trying to be set on a copy of a slice from a DataFrame.\n",
      "Try using .loc[row_indexer,col_indexer] = value instead\n",
      "\n",
      "See the caveats in the documentation: http://pandas.pydata.org/pandas-docs/stable/indexing.html#indexing-view-versus-copy\n",
      "\n",
      "A value is trying to be set on a copy of a slice from a DataFrame.\n",
      "Try using .loc[row_indexer,col_indexer] = value instead\n",
      "\n",
      "See the caveats in the documentation: http://pandas.pydata.org/pandas-docs/stable/indexing.html#indexing-view-versus-copy\n",
      "\n",
      "A value is trying to be set on a copy of a slice from a DataFrame.\n",
      "Try using .loc[row_indexer,col_indexer] = value instead\n",
      "\n",
      "See the caveats in the documentation: http://pandas.pydata.org/pandas-docs/stable/indexing.html#indexing-view-versus-copy\n"
     ]
    },
    {
     "data": {
      "text/html": [
       "<div>\n",
       "<style scoped>\n",
       "    .dataframe tbody tr th:only-of-type {\n",
       "        vertical-align: middle;\n",
       "    }\n",
       "\n",
       "    .dataframe tbody tr th {\n",
       "        vertical-align: top;\n",
       "    }\n",
       "\n",
       "    .dataframe thead th {\n",
       "        text-align: right;\n",
       "    }\n",
       "</style>\n",
       "<table border=\"1\" class=\"dataframe\">\n",
       "  <thead>\n",
       "    <tr style=\"text-align: right;\">\n",
       "      <th></th>\n",
       "      <th>age</th>\n",
       "      <th>education-num</th>\n",
       "      <th>hours-per-week</th>\n",
       "      <th>marital-status</th>\n",
       "      <th>native-country</th>\n",
       "      <th>occupation</th>\n",
       "    </tr>\n",
       "  </thead>\n",
       "  <tbody>\n",
       "    <tr>\n",
       "      <th>0</th>\n",
       "      <td>39</td>\n",
       "      <td>13</td>\n",
       "      <td>40</td>\n",
       "      <td>0</td>\n",
       "      <td>1</td>\n",
       "      <td>1</td>\n",
       "    </tr>\n",
       "    <tr>\n",
       "      <th>1</th>\n",
       "      <td>50</td>\n",
       "      <td>13</td>\n",
       "      <td>13</td>\n",
       "      <td>1</td>\n",
       "      <td>1</td>\n",
       "      <td>4</td>\n",
       "    </tr>\n",
       "    <tr>\n",
       "      <th>2</th>\n",
       "      <td>38</td>\n",
       "      <td>9</td>\n",
       "      <td>40</td>\n",
       "      <td>0</td>\n",
       "      <td>1</td>\n",
       "      <td>0</td>\n",
       "    </tr>\n",
       "    <tr>\n",
       "      <th>3</th>\n",
       "      <td>53</td>\n",
       "      <td>7</td>\n",
       "      <td>40</td>\n",
       "      <td>1</td>\n",
       "      <td>1</td>\n",
       "      <td>0</td>\n",
       "    </tr>\n",
       "    <tr>\n",
       "      <th>4</th>\n",
       "      <td>28</td>\n",
       "      <td>13</td>\n",
       "      <td>40</td>\n",
       "      <td>1</td>\n",
       "      <td>0</td>\n",
       "      <td>4</td>\n",
       "    </tr>\n",
       "  </tbody>\n",
       "</table>\n",
       "</div>"
      ],
      "text/plain": [
       "   age  education-num  hours-per-week  marital-status  native-country  \\\n",
       "0   39             13              40               0               1   \n",
       "1   50             13              13               1               1   \n",
       "2   38              9              40               0               1   \n",
       "3   53              7              40               1               1   \n",
       "4   28             13              40               1               0   \n",
       "\n",
       "   occupation  \n",
       "0           1  \n",
       "1           4  \n",
       "2           0  \n",
       "3           0  \n",
       "4           4  "
      ]
     },
     "execution_count": 8,
     "metadata": {},
     "output_type": "execute_result"
    }
   ],
   "source": [
    "#Target variable \n",
    "y = [1 if y == '>50K' else 0 for y in df['y']]\n",
    "\n",
    "#Model features\n",
    "X = df[['age','education-num','hours-per-week']]\n",
    "X['marital-status'] = [1 if x=='Married-civ-spouse' else 0 for x in df['marital-status']] \n",
    "X['native-country'] = [1 if x=='United-States' else 0 for x in df['native-country']] \n",
    "\n",
    "occ_groups = {\n",
    "    'Priv-house-serv':0,'Other-service':0,'Handlers-cleaners':0,\n",
    "    'Farming-fishing':1,'Machine-op-inspct':1,'Adm-clerical':1,\n",
    "    'Transport-moving':2,'Craft-repair':2,'Sales':2,\n",
    "    'Armed-Forces':3,'Tech-support':3,'Protective-serv':3,\n",
    "    'Prof-specialty':4,'Exec-managerial':4}\n",
    "\n",
    "X['occupation'] = [occ_groups[x] for x in df['occupation']]\n",
    "\n",
    "X.head()"
   ]
  },
  {
   "cell_type": "code",
   "execution_count": 154,
   "metadata": {},
   "outputs": [
    {
     "data": {
      "image/png": "[encoded data removed]",
      "text/plain": [
       "<Figure size 720x360 with 1 Axes>"
      ]
     },
     "metadata": {
      "needs_background": "light"
     },
     "output_type": "display_data"
    }
   ],
   "source": [
    "#Mutual information \n",
    "\n",
    "#Calcualte mutual information\n",
    "mut_race = mutual_info_classif(X,df_fair['priv_race'],discrete_features=[1,3,4,5])\n",
    "mut_sex = mutual_info_classif(X,df_fair['priv_sex'],discrete_features=[1,3,4,5])\n",
    "\n",
    "\n",
    "#Plot mutual information \n",
    "plt.figure(figsize=(10, 5))\n",
    "\n",
    "labels = ['age', 'education-num', 'hours-per-week', 'marital-status',\n",
    "       'native-country', 'occupation']\n",
    "x = np.arange(len(labels)) \n",
    "width = 0.4\n",
    "plt.bar(x-width/2,height= mut_race,width=width,label='Race')\n",
    "plt.bar(x+width/2,height= mut_sex,width=width,label='Sex')\n",
    "plt.legend(fontsize=15)\n",
    "\n",
    "plt.ylabel('Mutual Information',size=15)\n",
    "plt.xticks(ticks=x,labels=labels)\n",
    "\n",
    "plt.savefig(path.format(\"Mutual_information.png\"),dpi=100)\n"
   ]
  },
  {
   "cell_type": "code",
   "execution_count": 11,
   "metadata": {},
   "outputs": [
    {
     "name": "stderr",
     "output_type": "stream",
     "text": [
      "The use of label encoder in XGBClassifier is deprecated and will be removed in a future release. To remove this warning, do the following: 1) Pass option use_label_encoder=False when constructing XGBClassifier object; and 2) Encode your labels (y) as integers starting with 0, i.e. 0, 1, 2, ..., [num_class - 1].\n"
     ]
    },
    {
     "name": "stdout",
     "output_type": "stream",
     "text": [
      "[15:04:25] WARNING: /Users/runner/miniforge3/conda-bld/xgboost-split_1631904775127/work/src/learner.cc:1095: Starting in XGBoost 1.3.0, the default evaluation metric used with the objective 'binary:logistic' was changed from 'error' to 'logloss'. Explicitly set eval_metric if you'd like to restore the old behavior.\n",
      "0.7269346415572084\n",
      "[[4628 1691]\n",
      " [1760 4559]]\n",
      "              precision    recall  f1-score   support\n",
      "\n",
      "           0       0.72      0.73      0.73      6319\n",
      "           1       0.73      0.72      0.73      6319\n",
      "\n",
      "    accuracy                           0.73     12638\n",
      "   macro avg       0.73      0.73      0.73     12638\n",
      "weighted avg       0.73      0.73      0.73     12638\n",
      "\n"
     ]
    }
   ],
   "source": [
    "#Feature importance race\n",
    "\n",
    "# Get balanced sample \n",
    "y_race_0 = df_fair[df_fair['priv_race'] == 0]['priv_race']\n",
    "y_race_1 = df_fair[df_fair['priv_race'] == 1]['priv_race']\n",
    "y_race_1 = y_race_1.sample(len(y_race_0))\n",
    "y_race = y_race_0.append(y_race_1)\n",
    "\n",
    "X_race = X.loc[y_race.index]\n",
    "\n",
    "#Train model and get predictions\n",
    "model = xgb.XGBClassifier(objective=\"binary:logistic\")\n",
    "model.fit(X_race, y_race)\n",
    "y_pred = model.predict(X_race)\n",
    "\n",
    "#Calculate accuracy \n",
    "acc_race = accuracy_score(y_race, y_pred)\n",
    "\n",
    "#Get feature importance \n",
    "fi_race = model.get_booster().get_score(importance_type='weight')\n",
    "\n",
    "\n",
    "#Output results \n",
    "print(acc_race)\n",
    "print(confusion_matrix(y_race, y_pred))\n",
    "print(classification_report(y_race, y_pred))"
   ]
  },
  {
   "cell_type": "code",
   "execution_count": 9,
   "metadata": {},
   "outputs": [
    {
     "name": "stderr",
     "output_type": "stream",
     "text": [
      "The use of label encoder in XGBClassifier is deprecated and will be removed in a future release. To remove this warning, do the following: 1) Pass option use_label_encoder=False when constructing XGBClassifier object; and 2) Encode your labels (y) as integers starting with 0, i.e. 0, 1, 2, ..., [num_class - 1].\n"
     ]
    },
    {
     "name": "stdout",
     "output_type": "stream",
     "text": [
      "[15:04:17] WARNING: /Users/runner/miniforge3/conda-bld/xgboost-split_1631904775127/work/src/learner.cc:1095: Starting in XGBoost 1.3.0, the default evaluation metric used with the objective 'binary:logistic' was changed from 'error' to 'logloss'. Explicitly set eval_metric if you'd like to restore the old behavior.\n",
      "0.789486219802654\n",
      "[[12310  2385]\n",
      " [ 3802 10893]]\n",
      "              precision    recall  f1-score   support\n",
      "\n",
      "           0       0.76      0.84      0.80     14695\n",
      "           1       0.82      0.74      0.78     14695\n",
      "\n",
      "    accuracy                           0.79     29390\n",
      "   macro avg       0.79      0.79      0.79     29390\n",
      "weighted avg       0.79      0.79      0.79     29390\n",
      "\n"
     ]
    }
   ],
   "source": [
    "#Feature importance sex\n",
    "\n",
    "# Get balanced sample \n",
    "y_sex_0 = df_fair[df_fair['priv_sex'] == 0]['priv_sex']\n",
    "y_sex_1 = df_fair[df_fair['priv_sex'] == 1]['priv_sex']\n",
    "y_sex_1 = y_sex_1.sample(len(y_sex_0))\n",
    "y_sex = y_sex_0.append(y_sex_1)\n",
    "\n",
    "X_sex = X.loc[y_sex.index]\n",
    "\n",
    "#Train model and get predictions\n",
    "model = xgb.XGBClassifier(objective=\"binary:logistic\")\n",
    "model.fit(X_sex, y_sex)\n",
    "\n",
    "y_pred = model.predict(X_sex)\n",
    "\n",
    "#Calculate accuracy \n",
    "acc_sex = accuracy_score(y_sex, y_pred)\n",
    "\n",
    "#Get feature importance \n",
    "fi_sex = model.get_booster().get_score(importance_type='weight')\n",
    "\n",
    "#Output results \n",
    "print(acc_sex)\n",
    "print(confusion_matrix(y_sex, y_pred))\n",
    "print(classification_report(y_sex, y_pred))"
   ]
  },
  {
   "cell_type": "code",
   "execution_count": 12,
   "metadata": {},
   "outputs": [
    {
     "data": {
      "image/png": "[encoded data removed]",
      "text/plain": [
       "<Figure size 720x360 with 1 Axes>"
      ]
     },
     "metadata": {
      "needs_background": "light"
     },
     "output_type": "display_data"
    }
   ],
   "source": [
    "#Plot feature importance\n",
    "plt.figure(figsize=(10, 5))\n",
    "\n",
    "labels = ['age', 'education-num', 'hours-per-week', 'marital-status',\n",
    "       'native-country', 'occupation']\n",
    "\n",
    "fi_race = [fi_race[l] for l in labels]\n",
    "fi_sex = [fi_sex[l] for l in labels]\n",
    "\n",
    "\n",
    "x = np.arange(len(labels)) \n",
    "width = 0.4\n",
    "plt.bar(x-width/2,height= fi_race,width=width,label='Race')\n",
    "plt.bar(x+width/2,height= fi_sex,width=width,label='Sex')\n",
    "plt.legend(fontsize=15)\n",
    "\n",
    "plt.ylabel('Feature Importance',size=15)\n",
    "plt.xticks(ticks=x,labels=labels)\n",
    "\n",
    "plt.savefig(path.format(\"Feature Importance.png\"),dpi=100)"
   ]
  },
  {
   "cell_type": "markdown",
   "metadata": {},
   "source": [
    "# Measuring fairness"
   ]
  },
  {
   "cell_type": "markdown",
   "metadata": {},
   "source": [
    "## Modelling"
   ]
  },
  {
   "cell_type": "code",
   "execution_count": 15,
   "metadata": {},
   "outputs": [
    {
     "name": "stderr",
     "output_type": "stream",
     "text": [
      "The use of label encoder in XGBClassifier is deprecated and will be removed in a future release. To remove this warning, do the following: 1) Pass option use_label_encoder=False when constructing XGBClassifier object; and 2) Encode your labels (y) as integers starting with 0, i.e. 0, 1, 2, ..., [num_class - 1].\n"
     ]
    },
    {
     "name": "stdout",
     "output_type": "stream",
     "text": [
      "[15:09:54] WARNING: /Users/runner/miniforge3/conda-bld/xgboost-split_1631904775127/work/src/learner.cc:1095: Starting in XGBoost 1.3.0, the default evaluation metric used with the objective 'binary:logistic' was changed from 'error' to 'logloss'. Explicitly set eval_metric if you'd like to restore the old behavior.\n",
      "[[31494  2520]\n",
      " [ 4436  6772]]\n",
      "0.8461810623148025\n",
      "              precision    recall  f1-score   support\n",
      "\n",
      "           0       0.88      0.93      0.90     34014\n",
      "           1       0.73      0.60      0.66     11208\n",
      "\n",
      "    accuracy                           0.85     45222\n",
      "   macro avg       0.80      0.77      0.78     45222\n",
      "weighted avg       0.84      0.85      0.84     45222\n",
      "\n"
     ]
    },
    {
     "name": "stderr",
     "output_type": "stream",
     "text": [
      "\n",
      "A value is trying to be set on a copy of a slice from a DataFrame.\n",
      "Try using .loc[row_indexer,col_indexer] = value instead\n",
      "\n",
      "See the caveats in the documentation: http://pandas.pydata.org/pandas-docs/stable/indexing.html#indexing-view-versus-copy\n"
     ]
    }
   ],
   "source": [
    "#Train model \n",
    "model = xgb.XGBClassifier(objective=\"binary:logistic\")\n",
    "model.fit(X, y)\n",
    "\n",
    "#Get predictions\n",
    "y_pred = model.predict(X)\n",
    "df_fair['y_pred'] = y_pred\n",
    "\n",
    "print(confusion_matrix(y, y_pred))\n",
    "print(accuracy_score(y, y_pred))\n",
    "print(classification_report(y, y_pred))"
   ]
  },
  {
   "cell_type": "markdown",
   "metadata": {},
   "source": [
    "# Feasures of Fairness"
   ]
  },
  {
   "cell_type": "code",
   "execution_count": 16,
   "metadata": {},
   "outputs": [],
   "source": [
    "def fairness_metrics(df):\n",
    "    \"\"\"Calculate fairness for subgroup of population\"\"\"\n",
    "    \n",
    "    #Confusion Matrix\n",
    "    cm=confusion_matrix(df['y'],df['y_pred'])\n",
    "    TN, FP, FN, TP = cm.ravel()\n",
    "    \n",
    "    N = TP+FP+FN+TN\n",
    "    \n",
    "    # Overall accuracy\n",
    "    ACC = (TP+TN)/N\n",
    "    \n",
    "    # True positive rate\n",
    "    TPR = TP/(TP+FN)\n",
    "    \n",
    "    # False positive rate\n",
    "    FPR = FP/(FP+TN)\n",
    "    \n",
    "    # False negative rate\n",
    "    FNR = FN/(TP+FN)\n",
    "    \n",
    "    # Percentage predicted as positive\n",
    "    PPP = (TP + FP)/N\n",
    "    \n",
    "    return np.array([ACC, TPR, FPR, FNR, PPP])  \n",
    "    "
   ]
  },
  {
   "cell_type": "code",
   "execution_count": 17,
   "metadata": {},
   "outputs": [
    {
     "name": "stdout",
     "output_type": "stream",
     "text": [
      "[0.83852145 0.61114921 0.08060357 0.38885079 0.2198031 ]\n",
      "[0.89333755 0.53346653 0.03892441 0.46653347 0.11726539]\n",
      "[1.06537233 0.87289082 0.48291172 1.19977503 0.53350198]\n"
     ]
    }
   ],
   "source": [
    "#Calculate fairness metrics for race\n",
    "fm_race_1 = fairness_metrics(df_fair[df_fair.priv_race==1])\n",
    "fm_race_0 = fairness_metrics(df_fair[df_fair.priv_race==0])\n",
    "\n",
    "#Get ratio of fairness metrics\n",
    "fm_race = fm_race_0/fm_race_1\n",
    "\n",
    "print(fm_race_1)\n",
    "print(fm_race_0)\n",
    "print(fm_race)"
   ]
  },
  {
   "cell_type": "code",
   "execution_count": 18,
   "metadata": {},
   "outputs": [
    {
     "name": "stdout",
     "output_type": "stream",
     "text": [
      "[0.81000426 0.63245623 0.10930055 0.36754377 0.27277492]\n",
      "[0.92133379 0.44278011 0.01734992 0.55721989 0.06566859]\n",
      "[1.13744314 0.70009605 0.15873584 1.51606405 0.24074279]\n"
     ]
    }
   ],
   "source": [
    "#Calculate fairness metrics for sex\n",
    "fm_sex_1 = fairness_metrics(df_fair[df_fair.priv_sex==1])\n",
    "fm_sex_0 = fairness_metrics(df_fair[df_fair.priv_sex==0])\n",
    "\n",
    "\n",
    "#Get ratio of fairness metrics\n",
    "fm_sex = fm_sex_0/fm_sex_1\n",
    "\n",
    "print(fm_sex_1)\n",
    "print(fm_sex_0)\n",
    "print(fm_sex)"
   ]
  },
  {
   "cell_type": "markdown",
   "metadata": {},
   "source": [
    "# Additional analysis"
   ]
  },
  {
   "cell_type": "code",
   "execution_count": 19,
   "metadata": {},
   "outputs": [
    {
     "name": "stdout",
     "output_type": "stream",
     "text": [
      "priv_sex  marital-status\n",
      "0         0                 12482\n",
      "          1                  2213\n",
      "1         0                 11685\n",
      "          1                 18842\n",
      "Name: priv_sex, dtype: int64\n",
      "marital-status\n",
      "0    0.068027\n",
      "1    0.454239\n",
      "Name: y, dtype: float64\n",
      "priv_sex\n",
      "0    0.113576\n",
      "1    0.312477\n",
      "Name: y, dtype: float64\n"
     ]
    },
    {
     "name": "stderr",
     "output_type": "stream",
     "text": [
      "\n",
      "A value is trying to be set on a copy of a slice from a DataFrame.\n",
      "Try using .loc[row_indexer,col_indexer] = value instead\n",
      "\n",
      "See the caveats in the documentation: http://pandas.pydata.org/pandas-docs/stable/indexing.html#indexing-view-versus-copy\n"
     ]
    }
   ],
   "source": [
    "df_fair['marital-status'] = X['marital-status']\n",
    "\n",
    "#Calculate figures\n",
    "count_ms = df_fair.groupby(['priv_sex','marital-status'])['priv_sex'].count()\n",
    "prev_ms = df_fair.groupby(['marital-status'])['y'].mean()\n",
    "prev_sex = df_fair.groupby(['priv_sex'])['y'].mean()\n",
    "\n",
    "print(count_ms)\n",
    "print(prev_ms)\n",
    "print(prev_sex)"
   ]
  },
  {
   "cell_type": "markdown",
   "metadata": {},
   "source": [
    "# Archive"
   ]
  },
  {
   "cell_type": "code",
   "execution_count": 50,
   "metadata": {},
   "outputs": [],
   "source": [
    "import numpy as np\n",
    "shape, scale = 2., 2.  # mean=4, std=2*sqrt(2)\n",
    "r = np.random.gamma(3, 0.5, 1000)\n",
    "r = (r-min(r))/(max(r)-min(r))\n",
    "r = 16 + 60*r\n",
    "\n",
    "nr = np.random.gamma(5, 1, 5000)\n",
    "nr = (nr-min(nr))/(max(nr)-min(nr))\n",
    "nr = 18 + 62*nr"
   ]
  },
  {
   "cell_type": "code",
   "execution_count": 83,
   "metadata": {},
   "outputs": [
    {
     "name": "stdout",
     "output_type": "stream",
     "text": [
      "33.148419353742526 34.09247036962221 28.428164274344095\n"
     ]
    }
   ],
   "source": [
    "avg_r = np.mean(r)\n",
    "avg_nr = np.mean(nr)\n",
    "avg_t = np.mean([*r,*nr])\n",
    "print(avg_t,avg_nr,avg_r)"
   ]
  },
  {
   "cell_type": "code",
   "execution_count": 82,
   "metadata": {},
   "outputs": [
    {
     "data": {
      "image/png": "[encoded data removed]",
      "text/plain": [
       "<Figure size 720x432 with 1 Axes>"
      ]
     },
     "metadata": {
      "needs_background": "light"
     },
     "output_type": "display_data"
    }
   ],
   "source": [
    "import matplotlib.pyplot as plt\n",
    "\n",
    "plt.figure(figsize=(10, 6))\n",
    "plt.hist(nr, 50,label='Non-religious',alpha = 0.6)\n",
    "plt.hist(r, 50,label='Religious',alpha = 0.6)\n",
    "\n",
    "plt.vlines(x=avg_t,ymin=0,ymax=350,colors='Black',linestyles='--', label= 'Overall mean')\n",
    "plt.vlines(x=avg_nr,ymin=0,ymax=350,colors='#1F77B4',linestyles='--', label= 'Non-religious mean')\n",
    "plt.vlines(x=avg_r,ymin=0,ymax=350,colors='Orange',linestyles='--', label= 'Religious mean')\n",
    "\n",
    "plt.legend(prop={'size': 15})\n",
    "plt.savefig(path.format('skew_example.png'),format='png',dpi=150)"
   ]
  }
 ],
 "metadata": {
  "kernelspec": {
   "display_name": "Python 3",
   "language": "python",
   "name": "python3"
  },
  "language_info": {
   "codemirror_mode": {
    "name": "ipython",
    "version": 3
   },
   "file_extension": ".py",
   "mimetype": "text/x-python",
   "name": "python",
   "nbconvert_exporter": "python",
   "pygments_lexer": "ipython3",
   "version": "3.6.13"
  }
 },
 "nbformat": 4,
 "nbformat_minor": 2
}
