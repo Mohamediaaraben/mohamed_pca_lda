{
 "cells": [
  {
   "cell_type": "code",
   "execution_count": 1,
   "metadata": {},
   "outputs": [
    {
     "name": "stderr",
     "output_type": "stream",
     "text": [
      "You are using version 0.14.3 of the Terality client, but version 0.14.11 is available. Consider upgrading your version to get the latest fixes and features.\n"
     ]
    }
   ],
   "source": [
    "#imports\n",
    "import numpy as np\n",
    "import pandas as pd\n",
    "import terality as te\n",
    "\n",
    "import matplotlib.pyplot as plt\n",
    "\n",
    "import datetime\n",
    "\n",
    "path = \"/Users/conorosully/Google Drive/My Drive/Medium/Terality/\""
   ]
  },
  {
   "cell_type": "markdown",
   "metadata": {},
   "source": [
    "# Pandas intro"
   ]
  },
  {
   "cell_type": "code",
   "execution_count": null,
   "metadata": {},
   "outputs": [],
   "source": [
    "#Gives an error\n",
    "s3_folder = \"s3://terality-tutorial/transactions.csv\"\n",
    "df = pd.read_csv(s3_folder)"
   ]
  },
  {
   "cell_type": "code",
   "execution_count": 17,
   "metadata": {},
   "outputs": [
    {
     "data": {
      "text/html": [
       "<div>\n",
       "<style scoped>\n",
       "    .dataframe tbody tr th:only-of-type {\n",
       "        vertical-align: middle;\n",
       "    }\n",
       "\n",
       "    .dataframe tbody tr th {\n",
       "        vertical-align: top;\n",
       "    }\n",
       "\n",
       "    .dataframe thead th {\n",
       "        text-align: right;\n",
       "    }\n",
       "</style>\n",
       "<table border=\"1\" class=\"dataframe\">\n",
       "  <thead>\n",
       "    <tr style=\"text-align: right;\">\n",
       "      <th></th>\n",
       "      <th>YEAR</th>\n",
       "      <th>AMOUNT</th>\n",
       "    </tr>\n",
       "  </thead>\n",
       "  <tbody>\n",
       "    <tr>\n",
       "      <th>0</th>\n",
       "      <td>2010</td>\n",
       "      <td>3335804.19</td>\n",
       "    </tr>\n",
       "    <tr>\n",
       "      <th>1</th>\n",
       "      <td>2011</td>\n",
       "      <td>9469178.74</td>\n",
       "    </tr>\n",
       "    <tr>\n",
       "      <th>2</th>\n",
       "      <td>2012</td>\n",
       "      <td>14256696.86</td>\n",
       "    </tr>\n",
       "    <tr>\n",
       "      <th>3</th>\n",
       "      <td>2013</td>\n",
       "      <td>19545611.31</td>\n",
       "    </tr>\n",
       "    <tr>\n",
       "      <th>4</th>\n",
       "      <td>2014</td>\n",
       "      <td>25468170.43</td>\n",
       "    </tr>\n",
       "    <tr>\n",
       "      <th>5</th>\n",
       "      <td>2015</td>\n",
       "      <td>31388327.76</td>\n",
       "    </tr>\n",
       "    <tr>\n",
       "      <th>6</th>\n",
       "      <td>2016</td>\n",
       "      <td>37108109.62</td>\n",
       "    </tr>\n",
       "    <tr>\n",
       "      <th>7</th>\n",
       "      <td>2017</td>\n",
       "      <td>41759191.64</td>\n",
       "    </tr>\n",
       "    <tr>\n",
       "      <th>8</th>\n",
       "      <td>2018</td>\n",
       "      <td>45594729.30</td>\n",
       "    </tr>\n",
       "    <tr>\n",
       "      <th>9</th>\n",
       "      <td>2019</td>\n",
       "      <td>50719981.09</td>\n",
       "    </tr>\n",
       "    <tr>\n",
       "      <th>10</th>\n",
       "      <td>2020</td>\n",
       "      <td>49072746.77</td>\n",
       "    </tr>\n",
       "  </tbody>\n",
       "</table>\n",
       "</div>"
      ],
      "text/plain": [
       "    YEAR       AMOUNT\n",
       "0   2010   3335804.19\n",
       "1   2011   9469178.74\n",
       "2   2012  14256696.86\n",
       "3   2013  19545611.31\n",
       "4   2014  25468170.43\n",
       "5   2015  31388327.76\n",
       "6   2016  37108109.62\n",
       "7   2017  41759191.64\n",
       "8   2018  45594729.30\n",
       "9   2019  50719981.09\n",
       "10  2020  49072746.77"
      ]
     },
     "execution_count": 17,
     "metadata": {},
     "output_type": "execute_result"
    }
   ],
   "source": [
    "#Using a sample\n",
    "s3_folder = \"s3://terality-tutorial/transactions.csv\"\n",
    "df = pd.read_csv(s3_folder,nrows=5000000)\n",
    "df.groupby(['YEAR'],as_index=False)['AMOUNT'].sum()"
   ]
  },
  {
   "cell_type": "markdown",
   "metadata": {},
   "source": [
    "# Terality"
   ]
  },
  {
   "cell_type": "code",
   "execution_count": 22,
   "metadata": {
    "scrolled": true
   },
   "outputs": [
    {
     "name": "stdout",
     "output_type": "stream",
     "text": [
      "0:00:27.465444\n"
     ]
    },
    {
     "data": {
      "text/html": [
       "<div>\n",
       "<style scoped>\n",
       "    .dataframe tbody tr th:only-of-type {\n",
       "        vertical-align: middle;\n",
       "    }\n",
       "\n",
       "    .dataframe tbody tr th {\n",
       "        vertical-align: top;\n",
       "    }\n",
       "\n",
       "    .dataframe thead th {\n",
       "        text-align: right;\n",
       "    }\n",
       "</style>\n",
       "<table border=\"1\" class=\"dataframe\">\n",
       "  <thead>\n",
       "    <tr style=\"text-align: right;\">\n",
       "      <th></th>\n",
       "      <th>CUST_ID</th>\n",
       "      <th>START_DATE</th>\n",
       "      <th>END_DATE</th>\n",
       "      <th>TRANS_ID</th>\n",
       "      <th>DATE</th>\n",
       "      <th>YEAR</th>\n",
       "      <th>MONTH</th>\n",
       "      <th>DAY</th>\n",
       "      <th>EXP_TYPE</th>\n",
       "      <th>AMOUNT</th>\n",
       "    </tr>\n",
       "  </thead>\n",
       "  <tbody>\n",
       "    <tr>\n",
       "      <th>0</th>\n",
       "      <td>CI6XLYUMQK</td>\n",
       "      <td>2015-05-01</td>\n",
       "      <td>None</td>\n",
       "      <td>T8I9ZB5A6X90UG8</td>\n",
       "      <td>2015-09-11</td>\n",
       "      <td>2015</td>\n",
       "      <td>9</td>\n",
       "      <td>11</td>\n",
       "      <td>Motor/Travel</td>\n",
       "      <td>20.27</td>\n",
       "    </tr>\n",
       "    <tr>\n",
       "      <th>1</th>\n",
       "      <td>CI6XLYUMQK</td>\n",
       "      <td>2015-05-01</td>\n",
       "      <td>None</td>\n",
       "      <td>TZ4JSLS7SC7FO9H</td>\n",
       "      <td>2017-02-08</td>\n",
       "      <td>2017</td>\n",
       "      <td>2</td>\n",
       "      <td>8</td>\n",
       "      <td>Motor/Travel</td>\n",
       "      <td>12.85</td>\n",
       "    </tr>\n",
       "    <tr>\n",
       "      <th>2</th>\n",
       "      <td>CI6XLYUMQK</td>\n",
       "      <td>2015-05-01</td>\n",
       "      <td>None</td>\n",
       "      <td>TTUKRDDJ6B6F42H</td>\n",
       "      <td>2015-08-01</td>\n",
       "      <td>2015</td>\n",
       "      <td>8</td>\n",
       "      <td>1</td>\n",
       "      <td>Housing</td>\n",
       "      <td>383.80</td>\n",
       "    </tr>\n",
       "    <tr>\n",
       "      <th>3</th>\n",
       "      <td>CI6XLYUMQK</td>\n",
       "      <td>2015-05-01</td>\n",
       "      <td>None</td>\n",
       "      <td>TDUHFRUKGPPI6HD</td>\n",
       "      <td>2019-03-16</td>\n",
       "      <td>2019</td>\n",
       "      <td>3</td>\n",
       "      <td>16</td>\n",
       "      <td>Entertainment</td>\n",
       "      <td>5.72</td>\n",
       "    </tr>\n",
       "    <tr>\n",
       "      <th>4</th>\n",
       "      <td>CI6XLYUMQK</td>\n",
       "      <td>2015-05-01</td>\n",
       "      <td>None</td>\n",
       "      <td>T0JBZHBMSVRFMMD</td>\n",
       "      <td>2015-05-15</td>\n",
       "      <td>2015</td>\n",
       "      <td>5</td>\n",
       "      <td>15</td>\n",
       "      <td>Entertainment</td>\n",
       "      <td>11.06</td>\n",
       "    </tr>\n",
       "  </tbody>\n",
       "</table>\n",
       "</div>"
      ],
      "text/plain": [
       "      CUST_ID  START_DATE END_DATE         TRANS_ID        DATE  YEAR  MONTH  \\\n",
       "0  CI6XLYUMQK  2015-05-01     None  T8I9ZB5A6X90UG8  2015-09-11  2015      9   \n",
       "1  CI6XLYUMQK  2015-05-01     None  TZ4JSLS7SC7FO9H  2017-02-08  2017      2   \n",
       "2  CI6XLYUMQK  2015-05-01     None  TTUKRDDJ6B6F42H  2015-08-01  2015      8   \n",
       "3  CI6XLYUMQK  2015-05-01     None  TDUHFRUKGPPI6HD  2019-03-16  2019      3   \n",
       "4  CI6XLYUMQK  2015-05-01     None  T0JBZHBMSVRFMMD  2015-05-15  2015      5   \n",
       "\n",
       "   DAY       EXP_TYPE  AMOUNT  \n",
       "0   11   Motor/Travel   20.27  \n",
       "1    8   Motor/Travel   12.85  \n",
       "2    1        Housing  383.80  \n",
       "3   16  Entertainment    5.72  \n",
       "4   15  Entertainment   11.06  "
      ]
     },
     "execution_count": 22,
     "metadata": {},
     "output_type": "execute_result"
    }
   ],
   "source": [
    "#Import data\n",
    "begin = datetime.datetime.now()\n",
    "\n",
    "s3_folder = \"s3://terality-tutorial/transactions.csv\"\n",
    "df = te.read_csv(s3_folder)\n",
    "\n",
    "print(datetime.datetime.now() - begin)\n",
    "df.head()"
   ]
  },
  {
   "cell_type": "markdown",
   "metadata": {},
   "source": [
    "### Total expenditure each year"
   ]
  },
  {
   "cell_type": "code",
   "execution_count": 23,
   "metadata": {},
   "outputs": [
    {
     "name": "stdout",
     "output_type": "stream",
     "text": [
      "0:00:18.523850\n"
     ]
    },
    {
     "data": {
      "text/html": [
       "<div>\n",
       "<style scoped>\n",
       "    .dataframe tbody tr th:only-of-type {\n",
       "        vertical-align: middle;\n",
       "    }\n",
       "\n",
       "    .dataframe tbody tr th {\n",
       "        vertical-align: top;\n",
       "    }\n",
       "\n",
       "    .dataframe thead th {\n",
       "        text-align: right;\n",
       "    }\n",
       "</style>\n",
       "<table border=\"1\" class=\"dataframe\">\n",
       "  <thead>\n",
       "    <tr style=\"text-align: right;\">\n",
       "      <th></th>\n",
       "      <th>YEAR</th>\n",
       "      <th>AMOUNT</th>\n",
       "    </tr>\n",
       "  </thead>\n",
       "  <tbody>\n",
       "    <tr>\n",
       "      <th>0</th>\n",
       "      <td>2010</td>\n",
       "      <td>2.041377e+08</td>\n",
       "    </tr>\n",
       "    <tr>\n",
       "      <th>1</th>\n",
       "      <td>2011</td>\n",
       "      <td>5.842620e+08</td>\n",
       "    </tr>\n",
       "    <tr>\n",
       "      <th>2</th>\n",
       "      <td>2012</td>\n",
       "      <td>9.596104e+08</td>\n",
       "    </tr>\n",
       "    <tr>\n",
       "      <th>3</th>\n",
       "      <td>2013</td>\n",
       "      <td>1.324468e+09</td>\n",
       "    </tr>\n",
       "    <tr>\n",
       "      <th>4</th>\n",
       "      <td>2014</td>\n",
       "      <td>1.699034e+09</td>\n",
       "    </tr>\n",
       "    <tr>\n",
       "      <th>5</th>\n",
       "      <td>2015</td>\n",
       "      <td>2.058469e+09</td>\n",
       "    </tr>\n",
       "    <tr>\n",
       "      <th>6</th>\n",
       "      <td>2016</td>\n",
       "      <td>2.399227e+09</td>\n",
       "    </tr>\n",
       "    <tr>\n",
       "      <th>7</th>\n",
       "      <td>2017</td>\n",
       "      <td>2.709008e+09</td>\n",
       "    </tr>\n",
       "    <tr>\n",
       "      <th>8</th>\n",
       "      <td>2018</td>\n",
       "      <td>2.997901e+09</td>\n",
       "    </tr>\n",
       "    <tr>\n",
       "      <th>9</th>\n",
       "      <td>2019</td>\n",
       "      <td>3.267153e+09</td>\n",
       "    </tr>\n",
       "    <tr>\n",
       "      <th>10</th>\n",
       "      <td>2020</td>\n",
       "      <td>3.163759e+09</td>\n",
       "    </tr>\n",
       "  </tbody>\n",
       "</table>\n",
       "</div>"
      ],
      "text/plain": [
       "    YEAR        AMOUNT\n",
       "0   2010  2.041377e+08\n",
       "1   2011  5.842620e+08\n",
       "2   2012  9.596104e+08\n",
       "3   2013  1.324468e+09\n",
       "4   2014  1.699034e+09\n",
       "5   2015  2.058469e+09\n",
       "6   2016  2.399227e+09\n",
       "7   2017  2.709008e+09\n",
       "8   2018  2.997901e+09\n",
       "9   2019  3.267153e+09\n",
       "10  2020  3.163759e+09"
      ]
     },
     "execution_count": 23,
     "metadata": {},
     "output_type": "execute_result"
    }
   ],
   "source": [
    "begin = datetime.datetime.now()\n",
    "    \n",
    "agg_1 = df.groupby(['YEAR'],as_index=False)['AMOUNT'].sum()\n",
    "\n",
    "print(datetime.datetime.now() - begin)\n",
    "\n",
    "agg_1"
   ]
  },
  {
   "cell_type": "code",
   "execution_count": 24,
   "metadata": {},
   "outputs": [
    {
     "name": "stderr",
     "output_type": "stream",
     "text": [
      "INFO:terality:The result of te.series.shape was retrieved from cache [docs: https://docs.terality.com/getting-terality/user-guide/caching].\n",
      "WARNING:terality:Slow operation: Series.__getitem__ was executed on our non-parallelized engine [https://www.terality.com/post/inside-terality-the-non-parallelized-engine]. Please reach out to support@terality.com if you’d like us to prioritise the implementation of the function.\n",
      "/Users/conorosully/miniconda3/envs/Python3.7/lib/python3.7/site-packages/terality/_terality/terality_structures/structure.py:285: TeralityWarning: 'Iterating data structures is inefficient, see https://docs.terality.com/getting-terality/user-guide/best-practices-and-anti-patterns for more information.'\n",
      "  warnings.warn(TeralityWarning(ITERATION_WARNING))\n",
      "INFO:terality:The result of te.series.shape was retrieved from cache [docs: https://docs.terality.com/getting-terality/user-guide/caching].\n",
      "WARNING:terality:Slow operation: Series.__getitem__ was executed on our non-parallelized engine [https://www.terality.com/post/inside-terality-the-non-parallelized-engine]. Please reach out to support@terality.com if you’d like us to prioritise the implementation of the function.\n",
      "/Users/conorosully/miniconda3/envs/Python3.7/lib/python3.7/site-packages/terality/_terality/terality_structures/structure.py:285: TeralityWarning: 'Iterating data structures is inefficient, see https://docs.terality.com/getting-terality/user-guide/best-practices-and-anti-patterns for more information.'\n",
      "  warnings.warn(TeralityWarning(ITERATION_WARNING))\n"
     ]
    },
    {
     "data": {
      "image/png": "[encoded data removed]",
      "text/plain": [
       "<Figure size 720x360 with 1 Axes>"
      ]
     },
     "metadata": {
      "needs_background": "light"
     },
     "output_type": "display_data"
    }
   ],
   "source": [
    "#Plot aggregation\n",
    "plt.figure(figsize=(10, 5))\n",
    "plt.plot(agg_1['YEAR'],agg_1['AMOUNT']/1000000)\n",
    "plt.ylabel('Total expenditure ($ million)',size=15)\n",
    "plt.xlabel('Year',size=15)\n",
    "\n",
    "plt.savefig(path+\"agg_1.png\",dpi=100)"
   ]
  },
  {
   "cell_type": "markdown",
   "metadata": {},
   "source": [
    "### Average monthly entertainment expenditure in 2020 "
   ]
  },
  {
   "cell_type": "code",
   "execution_count": 25,
   "metadata": {},
   "outputs": [
    {
     "name": "stdout",
     "output_type": "stream",
     "text": [
      "0:00:44.957605\n"
     ]
    },
    {
     "data": {
      "text/html": [
       "<div>\n",
       "<style scoped>\n",
       "    .dataframe tbody tr th:only-of-type {\n",
       "        vertical-align: middle;\n",
       "    }\n",
       "\n",
       "    .dataframe tbody tr th {\n",
       "        vertical-align: top;\n",
       "    }\n",
       "\n",
       "    .dataframe thead th {\n",
       "        text-align: right;\n",
       "    }\n",
       "</style>\n",
       "<table border=\"1\" class=\"dataframe\">\n",
       "  <thead>\n",
       "    <tr style=\"text-align: right;\">\n",
       "      <th></th>\n",
       "      <th>MONTH</th>\n",
       "      <th>AMOUNT</th>\n",
       "    </tr>\n",
       "  </thead>\n",
       "  <tbody>\n",
       "    <tr>\n",
       "      <th>0</th>\n",
       "      <td>1</td>\n",
       "      <td>1043.401515</td>\n",
       "    </tr>\n",
       "    <tr>\n",
       "      <th>1</th>\n",
       "      <td>2</td>\n",
       "      <td>1045.010168</td>\n",
       "    </tr>\n",
       "    <tr>\n",
       "      <th>2</th>\n",
       "      <td>3</td>\n",
       "      <td>1045.998506</td>\n",
       "    </tr>\n",
       "    <tr>\n",
       "      <th>3</th>\n",
       "      <td>4</td>\n",
       "      <td>1047.275421</td>\n",
       "    </tr>\n",
       "    <tr>\n",
       "      <th>4</th>\n",
       "      <td>5</td>\n",
       "      <td>1049.368476</td>\n",
       "    </tr>\n",
       "    <tr>\n",
       "      <th>5</th>\n",
       "      <td>6</td>\n",
       "      <td>1051.868845</td>\n",
       "    </tr>\n",
       "    <tr>\n",
       "      <th>6</th>\n",
       "      <td>7</td>\n",
       "      <td>1052.693488</td>\n",
       "    </tr>\n",
       "    <tr>\n",
       "      <th>7</th>\n",
       "      <td>8</td>\n",
       "      <td>1054.660818</td>\n",
       "    </tr>\n",
       "    <tr>\n",
       "      <th>8</th>\n",
       "      <td>9</td>\n",
       "      <td>1057.858780</td>\n",
       "    </tr>\n",
       "    <tr>\n",
       "      <th>9</th>\n",
       "      <td>10</td>\n",
       "      <td>1165.543588</td>\n",
       "    </tr>\n",
       "    <tr>\n",
       "      <th>10</th>\n",
       "      <td>11</td>\n",
       "      <td>1273.818390</td>\n",
       "    </tr>\n",
       "    <tr>\n",
       "      <th>11</th>\n",
       "      <td>12</td>\n",
       "      <td>1381.368315</td>\n",
       "    </tr>\n",
       "  </tbody>\n",
       "</table>\n",
       "</div>"
      ],
      "text/plain": [
       "    MONTH       AMOUNT\n",
       "0       1  1043.401515\n",
       "1       2  1045.010168\n",
       "2       3  1045.998506\n",
       "3       4  1047.275421\n",
       "4       5  1049.368476\n",
       "5       6  1051.868845\n",
       "6       7  1052.693488\n",
       "7       8  1054.660818\n",
       "8       9  1057.858780\n",
       "9      10  1165.543588\n",
       "10     11  1273.818390\n",
       "11     12  1381.368315"
      ]
     },
     "execution_count": 25,
     "metadata": {},
     "output_type": "execute_result"
    }
   ],
   "source": [
    "begin = datetime.datetime.now()\n",
    "    \n",
    "trans_2020 = df[(df.YEAR==2020) & (df.EXP_TYPE=='Entertainment')]\n",
    "cust_agg = trans_2020.groupby(['CUST_ID','MONTH'],as_index=False)['AMOUNT'].sum()\n",
    "agg_2 = cust_agg.groupby(['MONTH'],as_index=False)['AMOUNT'].mean()\n",
    "\n",
    "print(datetime.datetime.now() - begin)\n",
    "\n",
    "agg_2       "
   ]
  },
  {
   "cell_type": "code",
   "execution_count": 26,
   "metadata": {},
   "outputs": [
    {
     "name": "stderr",
     "output_type": "stream",
     "text": [
      "INFO:terality:The result of te.series.shape was retrieved from cache [docs: https://docs.terality.com/getting-terality/user-guide/caching].\n",
      "WARNING:terality:Slow operation: Series.__getitem__ was executed on our non-parallelized engine [https://www.terality.com/post/inside-terality-the-non-parallelized-engine]. Please reach out to support@terality.com if you’d like us to prioritise the implementation of the function.\n",
      "/Users/conorosully/miniconda3/envs/Python3.7/lib/python3.7/site-packages/terality/_terality/terality_structures/structure.py:285: TeralityWarning: 'Iterating data structures is inefficient, see https://docs.terality.com/getting-terality/user-guide/best-practices-and-anti-patterns for more information.'\n",
      "  warnings.warn(TeralityWarning(ITERATION_WARNING))\n",
      "INFO:terality:The result of te.series.shape was retrieved from cache [docs: https://docs.terality.com/getting-terality/user-guide/caching].\n",
      "WARNING:terality:Slow operation: Series.__getitem__ was executed on our non-parallelized engine [https://www.terality.com/post/inside-terality-the-non-parallelized-engine]. Please reach out to support@terality.com if you’d like us to prioritise the implementation of the function.\n",
      "/Users/conorosully/miniconda3/envs/Python3.7/lib/python3.7/site-packages/terality/_terality/terality_structures/structure.py:285: TeralityWarning: 'Iterating data structures is inefficient, see https://docs.terality.com/getting-terality/user-guide/best-practices-and-anti-patterns for more information.'\n",
      "  warnings.warn(TeralityWarning(ITERATION_WARNING))\n"
     ]
    },
    {
     "data": {
      "image/png": "[encoded data removed]",
      "text/plain": [
       "<Figure size 720x360 with 1 Axes>"
      ]
     },
     "metadata": {
      "needs_background": "light"
     },
     "output_type": "display_data"
    }
   ],
   "source": [
    "#Plot aggregation\n",
    "plt.figure(figsize=(10, 5))\n",
    "plt.plot(agg_2['MONTH'],agg_2['AMOUNT'])\n",
    "plt.ylabel('Average expenditure ($)',size=15)\n",
    "plt.xlabel('Month in 2020',size=15)\n",
    "plt.ylim(bottom=0)\n",
    "\n",
    "plt.savefig(path+\"agg_2.png\",dpi=100)"
   ]
  },
  {
   "cell_type": "markdown",
   "metadata": {},
   "source": [
    "### % of customers who saved in March 2019"
   ]
  },
  {
   "cell_type": "code",
   "execution_count": 27,
   "metadata": {},
   "outputs": [
    {
     "name": "stderr",
     "output_type": "stream",
     "text": [
      "INFO:terality:The result of te.dataframe.df_col_by_attribute_access was retrieved from cache [docs: https://docs.terality.com/getting-terality/user-guide/caching].\n",
      "WARNING:terality:Slow operation: DataFrameGroupBy.__len__ was executed on our non-parallelized engine [https://www.terality.com/post/inside-terality-the-non-parallelized-engine]. Please reach out to support@terality.com if you’d like us to prioritise the implementation of the function.\n",
      "WARNING:terality:Slow operation: DataFrameGroupBy.__len__ was executed on our non-parallelized engine [https://www.terality.com/post/inside-terality-the-non-parallelized-engine]. Please reach out to support@terality.com if you’d like us to prioritise the implementation of the function.\n"
     ]
    },
    {
     "name": "stdout",
     "output_type": "stream",
     "text": [
      "0:00:46.327649\n"
     ]
    },
    {
     "data": {
      "text/plain": [
       "0.2967565774363947"
      ]
     },
     "execution_count": 27,
     "metadata": {},
     "output_type": "execute_result"
    }
   ],
   "source": [
    "begin = datetime.datetime.now()\n",
    "\n",
    "trans_MAR19 = df[(df.YEAR==2019) & (df.MONTH==3)]\n",
    "total = len(trans_MAR19.groupby('CUST_ID'))\n",
    "saved = len(trans_MAR19[trans_MAR19.EXP_TYPE =='Savings'].groupby('CUST_ID'))\n",
    "\n",
    "agg_3 = saved/total\n",
    "print(agg_3)\n",
    "\n",
    "print(datetime.datetime.now() - begin)\n",
    "\n",
    "agg_3  "
   ]
  },
  {
   "cell_type": "markdown",
   "metadata": {},
   "source": [
    "### Average monthly savings in last 12 months for June 2018"
   ]
  },
  {
   "cell_type": "code",
   "execution_count": 28,
   "metadata": {},
   "outputs": [
    {
     "name": "stderr",
     "output_type": "stream",
     "text": [
      "INFO:terality:The result of te.dataframe.df_col_by_attribute_access was retrieved from cache [docs: https://docs.terality.com/getting-terality/user-guide/caching].\n"
     ]
    },
    {
     "name": "stdout",
     "output_type": "stream",
     "text": [
      "0:01:16.776161\n"
     ]
    },
    {
     "data": {
      "text/html": [
       "<div>\n",
       "<style scoped>\n",
       "    .dataframe tbody tr th:only-of-type {\n",
       "        vertical-align: middle;\n",
       "    }\n",
       "\n",
       "    .dataframe tbody tr th {\n",
       "        vertical-align: top;\n",
       "    }\n",
       "\n",
       "    .dataframe thead th {\n",
       "        text-align: right;\n",
       "    }\n",
       "</style>\n",
       "<table border=\"1\" class=\"dataframe\">\n",
       "  <thead>\n",
       "    <tr style=\"text-align: right;\">\n",
       "      <th></th>\n",
       "      <th>CUST_ID</th>\n",
       "      <th>FEATURE_1</th>\n",
       "    </tr>\n",
       "  </thead>\n",
       "  <tbody>\n",
       "    <tr>\n",
       "      <th>0</th>\n",
       "      <td>C000BK8N2S</td>\n",
       "      <td>0.000000</td>\n",
       "    </tr>\n",
       "    <tr>\n",
       "      <th>1</th>\n",
       "      <td>C000TDGP4R</td>\n",
       "      <td>621.659167</td>\n",
       "    </tr>\n",
       "    <tr>\n",
       "      <th>2</th>\n",
       "      <td>C001F6USSU</td>\n",
       "      <td>0.000000</td>\n",
       "    </tr>\n",
       "    <tr>\n",
       "      <th>3</th>\n",
       "      <td>C0026REM1Q</td>\n",
       "      <td>0.000000</td>\n",
       "    </tr>\n",
       "    <tr>\n",
       "      <th>4</th>\n",
       "      <td>C003MG8NQZ</td>\n",
       "      <td>0.000000</td>\n",
       "    </tr>\n",
       "    <tr>\n",
       "      <th>...</th>\n",
       "      <td>...</td>\n",
       "      <td>...</td>\n",
       "    </tr>\n",
       "    <tr>\n",
       "      <th>44252</th>\n",
       "      <td>CZZS42AMEK</td>\n",
       "      <td>728.201667</td>\n",
       "    </tr>\n",
       "    <tr>\n",
       "      <th>44253</th>\n",
       "      <td>CZZU6XWAUZ</td>\n",
       "      <td>296.750000</td>\n",
       "    </tr>\n",
       "    <tr>\n",
       "      <th>44254</th>\n",
       "      <td>CZZUM94ZSD</td>\n",
       "      <td>0.000000</td>\n",
       "    </tr>\n",
       "    <tr>\n",
       "      <th>44255</th>\n",
       "      <td>CZZXQ5ULG7</td>\n",
       "      <td>60.259167</td>\n",
       "    </tr>\n",
       "    <tr>\n",
       "      <th>44256</th>\n",
       "      <td>CZZYEH2PF6</td>\n",
       "      <td>0.000000</td>\n",
       "    </tr>\n",
       "  </tbody>\n",
       "</table>\n",
       "<p>44257 rows × 2 columns</p>\n",
       "</div>"
      ],
      "text/plain": [
       "          CUST_ID   FEATURE_1\n",
       "0      C000BK8N2S    0.000000\n",
       "1      C000TDGP4R  621.659167\n",
       "2      C001F6USSU    0.000000\n",
       "3      C0026REM1Q    0.000000\n",
       "4      C003MG8NQZ    0.000000\n",
       "...           ...         ...\n",
       "44252  CZZS42AMEK  728.201667\n",
       "44253  CZZU6XWAUZ  296.750000\n",
       "44254  CZZUM94ZSD    0.000000\n",
       "44255  CZZXQ5ULG7   60.259167\n",
       "44256  CZZYEH2PF6    0.000000\n",
       "\n",
       "[44257 rows x 2 columns]"
      ]
     },
     "execution_count": 28,
     "metadata": {},
     "output_type": "execute_result"
    }
   ],
   "source": [
    "begin = datetime.datetime.now()\n",
    "\n",
    "#Get total saving each month \n",
    "trans_12M = df[(df.DATE >='2017-07-01') & (df.DATE <='2018-06-30')]\n",
    "trans_save = trans_12M[trans_12M.EXP_TYPE =='Savings']\n",
    "total_save = trans_save.groupby(['CUST_ID','YEAR','MONTH'],as_index=False)['AMOUNT'].sum()\n",
    "\n",
    "#Change monthly savings to a value of 0 when there are no saving transactions\n",
    "cust_base = trans_12M.groupby(['CUST_ID','YEAR','MONTH'],as_index=False)['TRANS_ID'].count()\n",
    "adjust_save = cust_base.join(total_save.set_index(['CUST_ID','YEAR','MONTH']),on=['CUST_ID','YEAR','MONTH'])\n",
    "adjust_save.fillna(0,inplace=True)\n",
    "\n",
    "#Calculate average monthly savings\n",
    "agg_4 = adjust_save.groupby(['CUST_ID'],as_index=False)['AMOUNT'].mean()\n",
    "agg_4.columns=['CUST_ID','FEATURE_1']\n",
    "\n",
    "print(datetime.datetime.now() - begin)\n",
    "\n",
    "agg_4\n",
    "\n",
    "       "
   ]
  },
  {
   "cell_type": "markdown",
   "metadata": {},
   "source": [
    "### Total gambling as a % of total expenditure in last 3 months"
   ]
  },
  {
   "cell_type": "code",
   "execution_count": 29,
   "metadata": {},
   "outputs": [
    {
     "name": "stderr",
     "output_type": "stream",
     "text": [
      "INFO:terality:The result of te.dataframe.df_col_by_attribute_access was retrieved from cache [docs: https://docs.terality.com/getting-terality/user-guide/caching].\n",
      "INFO:terality:The result of te.dataframe.df_col_by_attribute_access was retrieved from cache [docs: https://docs.terality.com/getting-terality/user-guide/caching].\n",
      "INFO:terality:The result of te.series.__le__ was retrieved from cache [docs: https://docs.terality.com/getting-terality/user-guide/caching].\n"
     ]
    },
    {
     "name": "stdout",
     "output_type": "stream",
     "text": [
      "0:00:48.856077\n"
     ]
    },
    {
     "data": {
      "text/html": [
       "<div>\n",
       "<style scoped>\n",
       "    .dataframe tbody tr th:only-of-type {\n",
       "        vertical-align: middle;\n",
       "    }\n",
       "\n",
       "    .dataframe tbody tr th {\n",
       "        vertical-align: top;\n",
       "    }\n",
       "\n",
       "    .dataframe thead th {\n",
       "        text-align: right;\n",
       "    }\n",
       "</style>\n",
       "<table border=\"1\" class=\"dataframe\">\n",
       "  <thead>\n",
       "    <tr style=\"text-align: right;\">\n",
       "      <th></th>\n",
       "      <th>CUST_ID</th>\n",
       "      <th>TOTAL</th>\n",
       "      <th>GAMBLE</th>\n",
       "      <th>FEATURE_2</th>\n",
       "    </tr>\n",
       "  </thead>\n",
       "  <tbody>\n",
       "    <tr>\n",
       "      <th>0</th>\n",
       "      <td>C000BK8N2S</td>\n",
       "      <td>7359.42</td>\n",
       "      <td>1863.15</td>\n",
       "      <td>0.253165</td>\n",
       "    </tr>\n",
       "    <tr>\n",
       "      <th>1</th>\n",
       "      <td>C000TDGP4R</td>\n",
       "      <td>40098.46</td>\n",
       "      <td>0.00</td>\n",
       "      <td>0.000000</td>\n",
       "    </tr>\n",
       "    <tr>\n",
       "      <th>2</th>\n",
       "      <td>C0026REM1Q</td>\n",
       "      <td>1545.85</td>\n",
       "      <td>0.00</td>\n",
       "      <td>0.000000</td>\n",
       "    </tr>\n",
       "    <tr>\n",
       "      <th>3</th>\n",
       "      <td>C003MG8NQZ</td>\n",
       "      <td>21161.43</td>\n",
       "      <td>0.00</td>\n",
       "      <td>0.000000</td>\n",
       "    </tr>\n",
       "    <tr>\n",
       "      <th>4</th>\n",
       "      <td>C00413PSKU</td>\n",
       "      <td>42257.38</td>\n",
       "      <td>0.00</td>\n",
       "      <td>0.000000</td>\n",
       "    </tr>\n",
       "    <tr>\n",
       "      <th>...</th>\n",
       "      <td>...</td>\n",
       "      <td>...</td>\n",
       "      <td>...</td>\n",
       "      <td>...</td>\n",
       "    </tr>\n",
       "    <tr>\n",
       "      <th>39808</th>\n",
       "      <td>CZZRTIXU97</td>\n",
       "      <td>13698.61</td>\n",
       "      <td>0.00</td>\n",
       "      <td>0.000000</td>\n",
       "    </tr>\n",
       "    <tr>\n",
       "      <th>39809</th>\n",
       "      <td>CZZS42AMEK</td>\n",
       "      <td>37192.72</td>\n",
       "      <td>3459.91</td>\n",
       "      <td>0.093027</td>\n",
       "    </tr>\n",
       "    <tr>\n",
       "      <th>39810</th>\n",
       "      <td>CZZUM94ZSD</td>\n",
       "      <td>2951.41</td>\n",
       "      <td>0.00</td>\n",
       "      <td>0.000000</td>\n",
       "    </tr>\n",
       "    <tr>\n",
       "      <th>39811</th>\n",
       "      <td>CZZXQ5ULG7</td>\n",
       "      <td>7776.73</td>\n",
       "      <td>0.00</td>\n",
       "      <td>0.000000</td>\n",
       "    </tr>\n",
       "    <tr>\n",
       "      <th>39812</th>\n",
       "      <td>CZZYEH2PF6</td>\n",
       "      <td>9463.58</td>\n",
       "      <td>0.00</td>\n",
       "      <td>0.000000</td>\n",
       "    </tr>\n",
       "  </tbody>\n",
       "</table>\n",
       "<p>39813 rows × 4 columns</p>\n",
       "</div>"
      ],
      "text/plain": [
       "          CUST_ID     TOTAL   GAMBLE  FEATURE_2\n",
       "0      C000BK8N2S   7359.42  1863.15   0.253165\n",
       "1      C000TDGP4R  40098.46     0.00   0.000000\n",
       "2      C0026REM1Q   1545.85     0.00   0.000000\n",
       "3      C003MG8NQZ  21161.43     0.00   0.000000\n",
       "4      C00413PSKU  42257.38     0.00   0.000000\n",
       "...           ...       ...      ...        ...\n",
       "39808  CZZRTIXU97  13698.61     0.00   0.000000\n",
       "39809  CZZS42AMEK  37192.72  3459.91   0.093027\n",
       "39810  CZZUM94ZSD   2951.41     0.00   0.000000\n",
       "39811  CZZXQ5ULG7   7776.73     0.00   0.000000\n",
       "39812  CZZYEH2PF6   9463.58     0.00   0.000000\n",
       "\n",
       "[39813 rows x 4 columns]"
      ]
     },
     "execution_count": 29,
     "metadata": {},
     "output_type": "execute_result"
    }
   ],
   "source": [
    "begin = datetime.datetime.now()\n",
    "\n",
    "#Get total saving each month \n",
    "trans_3M = df[(df.DATE >='2018-04-01') & (df.DATE <='2018-06-30')]\n",
    "total_exp = trans_3M.groupby(['CUST_ID'],as_index=False)['AMOUNT'].sum()\n",
    "total_exp.columns = ['CUST_ID','TOTAL']\n",
    "\n",
    "#Total gambling each month \n",
    "trans_gamble = trans_3M[trans_3M.EXP_TYPE == 'Gambling']\n",
    "total_gamble = trans_gamble.groupby(['CUST_ID'],as_index=False)['AMOUNT'].sum()\n",
    "total_gamble.columns = ['CUST_ID','GAMBLE']\n",
    "\n",
    "#Join and calculate feature\n",
    "agg_5 = total_exp.join(total_gamble.set_index(['CUST_ID']),on=['CUST_ID'])\n",
    "agg_5.fillna(0,inplace=True)\n",
    "agg_5['FEATURE_2'] = agg_5['GAMBLE']/agg_5['TOTAL']\n",
    "\n",
    "print(datetime.datetime.now() - begin)\n",
    "\n",
    "agg_5"
   ]
  },
  {
   "cell_type": "code",
   "execution_count": 30,
   "metadata": {},
   "outputs": [
    {
     "data": {
      "image/png": "[encoded data removed]",
      "text/plain": [
       "<Figure size 720x360 with 1 Axes>"
      ]
     },
     "metadata": {
      "needs_background": "light"
     },
     "output_type": "display_data"
    }
   ],
   "source": [
    "plt.figure(figsize=(10, 5))\n",
    "x = np.array(agg_5['FEATURE_2'])\n",
    "plt.hist(x)\n",
    "plt.ylabel('Number of Customers',size=15)\n",
    "plt.xlabel('Feature Value',size=15)\n",
    "\n",
    "plt.savefig(path+\"agg_5.png\",dpi=100)"
   ]
  },
  {
   "cell_type": "markdown",
   "metadata": {},
   "source": [
    "# Batch processing with pandas \n",
    "# ========================="
   ]
  },
  {
   "cell_type": "code",
   "execution_count": 2,
   "metadata": {},
   "outputs": [],
   "source": [
    "def get_rows(steps,count,names,path='../Data/transactions.csv'):\n",
    "    \n",
    "    \"\"\"\n",
    "    Returns a subset of rows from a CSV. The fist [steps]*[count] \n",
    "    rows are skipped and the next [steps] rows are returned. \n",
    "    \n",
    "    params\n",
    "    ------------\n",
    "        steps: number of rows returned\n",
    "        count: count variable updated each iteration \n",
    "        names: columns names of dataset\n",
    "        path: location of csv\n",
    "    \"\"\"\n",
    "    \n",
    "    if count ==0:\n",
    "        df = pd.read_csv(path,\n",
    "                         nrows=steps)\n",
    "    else: \n",
    "        df = pd.read_csv(path,\n",
    "                         skiprows=steps*count,\n",
    "                         nrows=steps,\n",
    "                         names=names)\n",
    "    return df"
   ]
  },
  {
   "cell_type": "markdown",
   "metadata": {},
   "source": [
    "### Total expenditure each year"
   ]
  },
  {
   "cell_type": "code",
   "execution_count": 3,
   "metadata": {
    "collapsed": true
   },
   "outputs": [
    {
     "name": "stdout",
     "output_type": "stream",
     "text": [
      "1 "
     ]
    },
    {
     "ename": "ParserError",
     "evalue": "Error tokenizing data. C error: Calling read(nbytes) on source failed. Try engine='python'.",
     "output_type": "error",
     "traceback": [
      "\u001b[0;31m---------------------------------------------------------------------------\u001b[0m",
      "\u001b[0;31mParserError\u001b[0m                               Traceback (most recent call last)",
      "\u001b[0;32m/var/folders/s2/82vv6ll16mn27w7gcdbccp3m0000gn/T/ipykernel_2203/3714546230.py\u001b[0m in \u001b[0;36m<module>\u001b[0;34m\u001b[0m\n\u001b[1;32m     11\u001b[0m \u001b[0;32mwhile\u001b[0m \u001b[0;32mTrue\u001b[0m\u001b[0;34m:\u001b[0m\u001b[0;34m\u001b[0m\u001b[0;34m\u001b[0m\u001b[0m\n\u001b[1;32m     12\u001b[0m \u001b[0;34m\u001b[0m\u001b[0m\n\u001b[0;32m---> 13\u001b[0;31m     \u001b[0mdf\u001b[0m \u001b[0;34m=\u001b[0m \u001b[0mget_rows\u001b[0m\u001b[0;34m(\u001b[0m\u001b[0msteps\u001b[0m\u001b[0;34m,\u001b[0m\u001b[0mcount\u001b[0m\u001b[0;34m,\u001b[0m\u001b[0mnames\u001b[0m\u001b[0;34m)\u001b[0m\u001b[0;34m\u001b[0m\u001b[0;34m\u001b[0m\u001b[0m\n\u001b[0m\u001b[1;32m     14\u001b[0m \u001b[0;34m\u001b[0m\u001b[0m\n\u001b[1;32m     15\u001b[0m     \u001b[0;31m#Get yearly totals for subsection\u001b[0m\u001b[0;34m\u001b[0m\u001b[0;34m\u001b[0m\u001b[0;34m\u001b[0m\u001b[0m\n",
      "\u001b[0;32m/var/folders/s2/82vv6ll16mn27w7gcdbccp3m0000gn/T/ipykernel_2203/2998222317.py\u001b[0m in \u001b[0;36mget_rows\u001b[0;34m(steps, count, names, path)\u001b[0m\n\u001b[1;32m     20\u001b[0m                          \u001b[0mskiprows\u001b[0m\u001b[0;34m=\u001b[0m\u001b[0msteps\u001b[0m\u001b[0;34m*\u001b[0m\u001b[0mcount\u001b[0m\u001b[0;34m,\u001b[0m\u001b[0;34m\u001b[0m\u001b[0;34m\u001b[0m\u001b[0m\n\u001b[1;32m     21\u001b[0m                          \u001b[0mnrows\u001b[0m\u001b[0;34m=\u001b[0m\u001b[0msteps\u001b[0m\u001b[0;34m,\u001b[0m\u001b[0;34m\u001b[0m\u001b[0;34m\u001b[0m\u001b[0m\n\u001b[0;32m---> 22\u001b[0;31m                          names=names)\n\u001b[0m\u001b[1;32m     23\u001b[0m     \u001b[0;32mreturn\u001b[0m \u001b[0mdf\u001b[0m\u001b[0;34m\u001b[0m\u001b[0;34m\u001b[0m\u001b[0m\n",
      "\u001b[0;32m~/miniconda3/envs/Python3.7/lib/python3.7/site-packages/pandas/util/_decorators.py\u001b[0m in \u001b[0;36mwrapper\u001b[0;34m(*args, **kwargs)\u001b[0m\n\u001b[1;32m    309\u001b[0m                     \u001b[0mstacklevel\u001b[0m\u001b[0;34m=\u001b[0m\u001b[0mstacklevel\u001b[0m\u001b[0;34m,\u001b[0m\u001b[0;34m\u001b[0m\u001b[0;34m\u001b[0m\u001b[0m\n\u001b[1;32m    310\u001b[0m                 )\n\u001b[0;32m--> 311\u001b[0;31m             \u001b[0;32mreturn\u001b[0m \u001b[0mfunc\u001b[0m\u001b[0;34m(\u001b[0m\u001b[0;34m*\u001b[0m\u001b[0margs\u001b[0m\u001b[0;34m,\u001b[0m \u001b[0;34m**\u001b[0m\u001b[0mkwargs\u001b[0m\u001b[0;34m)\u001b[0m\u001b[0;34m\u001b[0m\u001b[0;34m\u001b[0m\u001b[0m\n\u001b[0m\u001b[1;32m    312\u001b[0m \u001b[0;34m\u001b[0m\u001b[0m\n\u001b[1;32m    313\u001b[0m         \u001b[0;32mreturn\u001b[0m \u001b[0mwrapper\u001b[0m\u001b[0;34m\u001b[0m\u001b[0;34m\u001b[0m\u001b[0m\n",
      "\u001b[0;32m~/miniconda3/envs/Python3.7/lib/python3.7/site-packages/pandas/io/parsers/readers.py\u001b[0m in \u001b[0;36mread_csv\u001b[0;34m(filepath_or_buffer, sep, delimiter, header, names, index_col, usecols, squeeze, prefix, mangle_dupe_cols, dtype, engine, converters, true_values, false_values, skipinitialspace, skiprows, skipfooter, nrows, na_values, keep_default_na, na_filter, verbose, skip_blank_lines, parse_dates, infer_datetime_format, keep_date_col, date_parser, dayfirst, cache_dates, iterator, chunksize, compression, thousands, decimal, lineterminator, quotechar, quoting, doublequote, escapechar, comment, encoding, encoding_errors, dialect, error_bad_lines, warn_bad_lines, on_bad_lines, delim_whitespace, low_memory, memory_map, float_precision, storage_options)\u001b[0m\n\u001b[1;32m    584\u001b[0m     \u001b[0mkwds\u001b[0m\u001b[0;34m.\u001b[0m\u001b[0mupdate\u001b[0m\u001b[0;34m(\u001b[0m\u001b[0mkwds_defaults\u001b[0m\u001b[0;34m)\u001b[0m\u001b[0;34m\u001b[0m\u001b[0;34m\u001b[0m\u001b[0m\n\u001b[1;32m    585\u001b[0m \u001b[0;34m\u001b[0m\u001b[0m\n\u001b[0;32m--> 586\u001b[0;31m     \u001b[0;32mreturn\u001b[0m \u001b[0m_read\u001b[0m\u001b[0;34m(\u001b[0m\u001b[0mfilepath_or_buffer\u001b[0m\u001b[0;34m,\u001b[0m \u001b[0mkwds\u001b[0m\u001b[0;34m)\u001b[0m\u001b[0;34m\u001b[0m\u001b[0;34m\u001b[0m\u001b[0m\n\u001b[0m\u001b[1;32m    587\u001b[0m \u001b[0;34m\u001b[0m\u001b[0m\n\u001b[1;32m    588\u001b[0m \u001b[0;34m\u001b[0m\u001b[0m\n",
      "\u001b[0;32m~/miniconda3/envs/Python3.7/lib/python3.7/site-packages/pandas/io/parsers/readers.py\u001b[0m in \u001b[0;36m_read\u001b[0;34m(filepath_or_buffer, kwds)\u001b[0m\n\u001b[1;32m    486\u001b[0m \u001b[0;34m\u001b[0m\u001b[0m\n\u001b[1;32m    487\u001b[0m     \u001b[0;32mwith\u001b[0m \u001b[0mparser\u001b[0m\u001b[0;34m:\u001b[0m\u001b[0;34m\u001b[0m\u001b[0;34m\u001b[0m\u001b[0m\n\u001b[0;32m--> 488\u001b[0;31m         \u001b[0;32mreturn\u001b[0m \u001b[0mparser\u001b[0m\u001b[0;34m.\u001b[0m\u001b[0mread\u001b[0m\u001b[0;34m(\u001b[0m\u001b[0mnrows\u001b[0m\u001b[0;34m)\u001b[0m\u001b[0;34m\u001b[0m\u001b[0;34m\u001b[0m\u001b[0m\n\u001b[0m\u001b[1;32m    489\u001b[0m \u001b[0;34m\u001b[0m\u001b[0m\n\u001b[1;32m    490\u001b[0m \u001b[0;34m\u001b[0m\u001b[0m\n",
      "\u001b[0;32m~/miniconda3/envs/Python3.7/lib/python3.7/site-packages/pandas/io/parsers/readers.py\u001b[0m in \u001b[0;36mread\u001b[0;34m(self, nrows)\u001b[0m\n\u001b[1;32m   1045\u001b[0m     \u001b[0;32mdef\u001b[0m \u001b[0mread\u001b[0m\u001b[0;34m(\u001b[0m\u001b[0mself\u001b[0m\u001b[0;34m,\u001b[0m \u001b[0mnrows\u001b[0m\u001b[0;34m=\u001b[0m\u001b[0;32mNone\u001b[0m\u001b[0;34m)\u001b[0m\u001b[0;34m:\u001b[0m\u001b[0;34m\u001b[0m\u001b[0;34m\u001b[0m\u001b[0m\n\u001b[1;32m   1046\u001b[0m         \u001b[0mnrows\u001b[0m \u001b[0;34m=\u001b[0m \u001b[0mvalidate_integer\u001b[0m\u001b[0;34m(\u001b[0m\u001b[0;34m\"nrows\"\u001b[0m\u001b[0;34m,\u001b[0m \u001b[0mnrows\u001b[0m\u001b[0;34m)\u001b[0m\u001b[0;34m\u001b[0m\u001b[0;34m\u001b[0m\u001b[0m\n\u001b[0;32m-> 1047\u001b[0;31m         \u001b[0mindex\u001b[0m\u001b[0;34m,\u001b[0m \u001b[0mcolumns\u001b[0m\u001b[0;34m,\u001b[0m \u001b[0mcol_dict\u001b[0m \u001b[0;34m=\u001b[0m \u001b[0mself\u001b[0m\u001b[0;34m.\u001b[0m\u001b[0m_engine\u001b[0m\u001b[0;34m.\u001b[0m\u001b[0mread\u001b[0m\u001b[0;34m(\u001b[0m\u001b[0mnrows\u001b[0m\u001b[0;34m)\u001b[0m\u001b[0;34m\u001b[0m\u001b[0;34m\u001b[0m\u001b[0m\n\u001b[0m\u001b[1;32m   1048\u001b[0m \u001b[0;34m\u001b[0m\u001b[0m\n\u001b[1;32m   1049\u001b[0m         \u001b[0;32mif\u001b[0m \u001b[0mindex\u001b[0m \u001b[0;32mis\u001b[0m \u001b[0;32mNone\u001b[0m\u001b[0;34m:\u001b[0m\u001b[0;34m\u001b[0m\u001b[0;34m\u001b[0m\u001b[0m\n",
      "\u001b[0;32m~/miniconda3/envs/Python3.7/lib/python3.7/site-packages/pandas/io/parsers/c_parser_wrapper.py\u001b[0m in \u001b[0;36mread\u001b[0;34m(self, nrows)\u001b[0m\n\u001b[1;32m    222\u001b[0m         \u001b[0;32mtry\u001b[0m\u001b[0;34m:\u001b[0m\u001b[0;34m\u001b[0m\u001b[0;34m\u001b[0m\u001b[0m\n\u001b[1;32m    223\u001b[0m             \u001b[0;32mif\u001b[0m \u001b[0mself\u001b[0m\u001b[0;34m.\u001b[0m\u001b[0mlow_memory\u001b[0m\u001b[0;34m:\u001b[0m\u001b[0;34m\u001b[0m\u001b[0;34m\u001b[0m\u001b[0m\n\u001b[0;32m--> 224\u001b[0;31m                 \u001b[0mchunks\u001b[0m \u001b[0;34m=\u001b[0m \u001b[0mself\u001b[0m\u001b[0;34m.\u001b[0m\u001b[0m_reader\u001b[0m\u001b[0;34m.\u001b[0m\u001b[0mread_low_memory\u001b[0m\u001b[0;34m(\u001b[0m\u001b[0mnrows\u001b[0m\u001b[0;34m)\u001b[0m\u001b[0;34m\u001b[0m\u001b[0;34m\u001b[0m\u001b[0m\n\u001b[0m\u001b[1;32m    225\u001b[0m                 \u001b[0;31m# destructive to chunks\u001b[0m\u001b[0;34m\u001b[0m\u001b[0;34m\u001b[0m\u001b[0;34m\u001b[0m\u001b[0m\n\u001b[1;32m    226\u001b[0m                 \u001b[0mdata\u001b[0m \u001b[0;34m=\u001b[0m \u001b[0m_concatenate_chunks\u001b[0m\u001b[0;34m(\u001b[0m\u001b[0mchunks\u001b[0m\u001b[0;34m)\u001b[0m\u001b[0;34m\u001b[0m\u001b[0;34m\u001b[0m\u001b[0m\n",
      "\u001b[0;32m~/miniconda3/envs/Python3.7/lib/python3.7/site-packages/pandas/_libs/parsers.pyx\u001b[0m in \u001b[0;36mpandas._libs.parsers.TextReader.read_low_memory\u001b[0;34m()\u001b[0m\n",
      "\u001b[0;32m~/miniconda3/envs/Python3.7/lib/python3.7/site-packages/pandas/_libs/parsers.pyx\u001b[0m in \u001b[0;36mpandas._libs.parsers.TextReader._read_rows\u001b[0;34m()\u001b[0m\n",
      "\u001b[0;32m~/miniconda3/envs/Python3.7/lib/python3.7/site-packages/pandas/_libs/parsers.pyx\u001b[0m in \u001b[0;36mpandas._libs.parsers.TextReader._tokenize_rows\u001b[0;34m()\u001b[0m\n",
      "\u001b[0;32m~/miniconda3/envs/Python3.7/lib/python3.7/site-packages/pandas/_libs/parsers.pyx\u001b[0m in \u001b[0;36mpandas._libs.parsers.raise_parser_error\u001b[0;34m()\u001b[0m\n",
      "\u001b[0;31mParserError\u001b[0m: Error tokenizing data. C error: Calling read(nbytes) on source failed. Try engine='python'."
     ]
    }
   ],
   "source": [
    "begin = datetime.datetime.now()\n",
    "\n",
    "steps = 5000000\n",
    "names = ['CUST_ID', 'START_DATE', 'END_DATE', 'TRANS_ID', 'DATE', 'YEAR',\n",
    "       'MONTH', 'DAY', 'EXP_TYPE', 'AMOUNT']\n",
    "\n",
    "#Initialise yearly totals\n",
    "total_exp = pd.Series([0.0]*11, index=range(2010,2021))\n",
    "\n",
    "count = 0\n",
    "while True:\n",
    "    \n",
    "    df = get_rows(steps,count,names)\n",
    "\n",
    "    #Get yearly totals for subsection\n",
    "    exp = df.groupby(['YEAR'])['AMOUNT'].sum()\n",
    "    \n",
    "    #Loop over years 2010 to 2020\n",
    "    for year in range(2010,2021):\n",
    "        #Update yearly totals\n",
    "        total_exp[year] += exp[year]\n",
    "    \n",
    "    count+=1\n",
    "    print(count,end=\" \")\n",
    "    #Exit loop\n",
    "    if len(df)!=steps:\n",
    "        break\n",
    "print()\n",
    "print(total_exp)  \n",
    "\n",
    "print(datetime.datetime.now() - begin)\n",
    "\n",
    "#Plot aggregation\n",
    "plt.figure(figsize=(10, 5))\n",
    "\n",
    "plt.plot(total_exp.index,total_exp/1000000000)\n",
    "plt.ylabel('Total expenditure ($ billion)',size=15)\n",
    "plt.xlabel('Year',size=15)\n",
    "plt.ylim(bottom=0)"
   ]
  },
  {
   "cell_type": "markdown",
   "metadata": {},
   "source": [
    "### Average monthly entertainment expenditure in 2020"
   ]
  },
  {
   "cell_type": "code",
   "execution_count": null,
   "metadata": {},
   "outputs": [],
   "source": [
    "begin = datetime.datetime.now()\n",
    "\n",
    "steps = 5000000\n",
    "names = ['CUST_ID', 'START_DATE', 'END_DATE', 'TRANS_ID', 'DATE', 'YEAR',\n",
    "       'MONTH', 'DAY', 'EXP_TYPE', 'AMOUNT']\n",
    "\n",
    "#Create empty total expenditure dataframe\n",
    "total_exp = pd.DataFrame(columns=['CUST_ID','MONTH','AMOUNT'])\n",
    "\n",
    "count = 0\n",
    "while True:\n",
    "    \n",
    "    df = get_rows(steps,count,names)\n",
    "\n",
    "    #Calculate monthly totals for each customer\n",
    "    df_2020 = df[(df.YEAR==2020) & (df.EXP_TYPE=='Entertainment')]\n",
    "    sum_exp = df_2020.groupby(['CUST_ID','MONTH'],as_index=False)['AMOUNT'].sum()\n",
    "    \n",
    "    #Append monthly totals\n",
    "    total_exp = total_exp.append(sum_exp)\n",
    "    \n",
    "    #Aggregate again so CUST_ID and MONTH are unique\n",
    "    total_exp = total_exp.groupby(['CUST_ID','MONTH'],as_index=False)['AMOUNT'].sum()\n",
    "    \n",
    "    count+=1\n",
    "    print(count,end=\" \")\n",
    "    #Exit loop\n",
    "    if len(df)!=steps:\n",
    "        break\n",
    "\n",
    "#Final aggregations\n",
    "avg_exp = total_exp.groupby(['MONTH'])['AMOUNT'].mean()\n",
    "\n",
    "print()\n",
    "print(datetime.datetime.now() - begin)\n",
    "\n",
    "#Plot aggregation\n",
    "plt.figure(figsize=(10, 5))\n",
    "plt.plot(avg_exp.index,avg_exp)\n",
    "plt.ylabel('Average entertainment expenditure',size=12)\n",
    "plt.xlabel('Month',size=15)\n",
    "plt.ylim(bottom=0)"
   ]
  },
  {
   "cell_type": "markdown",
   "metadata": {},
   "source": [
    "### % of customers who saved in March 2019"
   ]
  },
  {
   "cell_type": "code",
   "execution_count": 4,
   "metadata": {},
   "outputs": [
    {
     "name": "stdout",
     "output_type": "stream",
     "text": [
      "1 "
     ]
    },
    {
     "name": "stderr",
     "output_type": "stream",
     "text": [
      "/Users/conorosully/miniconda3/envs/Python3.7/lib/python3.7/site-packages/ipykernel_launcher.py:13: DtypeWarning: Columns (2) have mixed types.Specify dtype option on import or set low_memory=False.\n",
      "  del sys.path[0]\n"
     ]
    },
    {
     "name": "stdout",
     "output_type": "stream",
     "text": [
      "2 3 4 5 6 7 8 9 10 11 12 13 14 15 16 17 18 19 20 21 22 23 24 25 26 27 28 29 30 31 32 33 34 35 36 37 38 39 40 41 42 43 44 45 46 47 48 49 50 51 52 53 \n",
      "0:45:11.105703\n",
      "0.2967565774363947\n"
     ]
    }
   ],
   "source": [
    "begin = datetime.datetime.now()\n",
    "\n",
    "steps = 5000000\n",
    "names = ['CUST_ID', 'START_DATE', 'END_DATE', 'TRANS_ID', 'DATE', 'YEAR',\n",
    "       'MONTH', 'DAY', 'EXP_TYPE', 'AMOUNT']\n",
    "\n",
    "total=set()\n",
    "saved=set()\n",
    "\n",
    "count = 0\n",
    "while True:\n",
    "    \n",
    "    df = get_rows(steps,count,names)\n",
    "    \n",
    "    #get transactions in 2020\n",
    "    trans_MAR19 = df[(df.YEAR==2019) & (df.MONTH==3)]\n",
    "\n",
    "    for c in trans_MAR19['CUST_ID']: \n",
    "        total.add(c)\n",
    "\n",
    "    for c in trans_MAR19[trans_MAR19.EXP_TYPE =='Savings']['CUST_ID']:\n",
    "        saved.add(c)\n",
    "\n",
    "    \n",
    "    count+=1\n",
    "    print(count,end=\" \")\n",
    "    #Exit loop\n",
    "    if len(df)!=steps:\n",
    "        break\n",
    "\n",
    "agg_3 = len(saved)/len(total)\n",
    "print()\n",
    "print(datetime.datetime.now() - begin)\n",
    "\n",
    "print(agg_3)"
   ]
  },
  {
   "cell_type": "markdown",
   "metadata": {},
   "source": [
    "### Average monthly savings in last 12 months for June 2018"
   ]
  },
  {
   "cell_type": "code",
   "execution_count": 5,
   "metadata": {},
   "outputs": [
    {
     "name": "stdout",
     "output_type": "stream",
     "text": [
      "1 "
     ]
    },
    {
     "name": "stderr",
     "output_type": "stream",
     "text": [
      "/Users/conorosully/miniconda3/envs/Python3.7/lib/python3.7/site-packages/ipykernel_launcher.py:13: DtypeWarning: Columns (2) have mixed types.Specify dtype option on import or set low_memory=False.\n",
      "  del sys.path[0]\n"
     ]
    },
    {
     "name": "stdout",
     "output_type": "stream",
     "text": [
      "2 3 4 5 6 7 8 9 10 11 12 13 14 15 16 17 18 19 20 21 22 23 24 25 26 27 28 29 30 31 32 33 34 35 36 37 38 39 40 41 42 43 44 45 46 47 48 49 50 51 52 53 \n",
      "0:46:47.881837\n"
     ]
    },
    {
     "data": {
      "text/html": [
       "<div>\n",
       "<style scoped>\n",
       "    .dataframe tbody tr th:only-of-type {\n",
       "        vertical-align: middle;\n",
       "    }\n",
       "\n",
       "    .dataframe tbody tr th {\n",
       "        vertical-align: top;\n",
       "    }\n",
       "\n",
       "    .dataframe thead th {\n",
       "        text-align: right;\n",
       "    }\n",
       "</style>\n",
       "<table border=\"1\" class=\"dataframe\">\n",
       "  <thead>\n",
       "    <tr style=\"text-align: right;\">\n",
       "      <th></th>\n",
       "      <th>CUST_ID</th>\n",
       "      <th>FEATURE_1</th>\n",
       "    </tr>\n",
       "  </thead>\n",
       "  <tbody>\n",
       "    <tr>\n",
       "      <th>0</th>\n",
       "      <td>C000BK8N2S</td>\n",
       "      <td>0.000000</td>\n",
       "    </tr>\n",
       "    <tr>\n",
       "      <th>1</th>\n",
       "      <td>C000TDGP4R</td>\n",
       "      <td>621.659167</td>\n",
       "    </tr>\n",
       "    <tr>\n",
       "      <th>2</th>\n",
       "      <td>C001F6USSU</td>\n",
       "      <td>0.000000</td>\n",
       "    </tr>\n",
       "    <tr>\n",
       "      <th>3</th>\n",
       "      <td>C0026REM1Q</td>\n",
       "      <td>0.000000</td>\n",
       "    </tr>\n",
       "    <tr>\n",
       "      <th>4</th>\n",
       "      <td>C003MG8NQZ</td>\n",
       "      <td>0.000000</td>\n",
       "    </tr>\n",
       "    <tr>\n",
       "      <th>...</th>\n",
       "      <td>...</td>\n",
       "      <td>...</td>\n",
       "    </tr>\n",
       "    <tr>\n",
       "      <th>44252</th>\n",
       "      <td>CZZS42AMEK</td>\n",
       "      <td>728.201667</td>\n",
       "    </tr>\n",
       "    <tr>\n",
       "      <th>44253</th>\n",
       "      <td>CZZU6XWAUZ</td>\n",
       "      <td>296.750000</td>\n",
       "    </tr>\n",
       "    <tr>\n",
       "      <th>44254</th>\n",
       "      <td>CZZUM94ZSD</td>\n",
       "      <td>0.000000</td>\n",
       "    </tr>\n",
       "    <tr>\n",
       "      <th>44255</th>\n",
       "      <td>CZZXQ5ULG7</td>\n",
       "      <td>60.259167</td>\n",
       "    </tr>\n",
       "    <tr>\n",
       "      <th>44256</th>\n",
       "      <td>CZZYEH2PF6</td>\n",
       "      <td>0.000000</td>\n",
       "    </tr>\n",
       "  </tbody>\n",
       "</table>\n",
       "<p>44257 rows × 2 columns</p>\n",
       "</div>"
      ],
      "text/plain": [
       "          CUST_ID   FEATURE_1\n",
       "0      C000BK8N2S    0.000000\n",
       "1      C000TDGP4R  621.659167\n",
       "2      C001F6USSU    0.000000\n",
       "3      C0026REM1Q    0.000000\n",
       "4      C003MG8NQZ    0.000000\n",
       "...           ...         ...\n",
       "44252  CZZS42AMEK  728.201667\n",
       "44253  CZZU6XWAUZ  296.750000\n",
       "44254  CZZUM94ZSD    0.000000\n",
       "44255  CZZXQ5ULG7   60.259167\n",
       "44256  CZZYEH2PF6    0.000000\n",
       "\n",
       "[44257 rows x 2 columns]"
      ]
     },
     "execution_count": 5,
     "metadata": {},
     "output_type": "execute_result"
    }
   ],
   "source": [
    "begin = datetime.datetime.now()\n",
    "\n",
    "steps = 5000000\n",
    "names = ['CUST_ID', 'START_DATE', 'END_DATE', 'TRANS_ID', 'DATE', 'YEAR',\n",
    "       'MONTH', 'DAY', 'EXP_TYPE', 'AMOUNT']\n",
    "\n",
    "total_save = pd.DataFrame(columns=['CUST_ID','YEAR','MONTH','AMOUNT'])\n",
    "cust_base = pd.DataFrame(columns=['CUST_ID','YEAR','MONTH','TRANS_ID'])\n",
    "\n",
    "count = 0\n",
    "while True:\n",
    "    \n",
    "    df = get_rows(steps,count,names)\n",
    "    \n",
    "    #Get total saving each month \n",
    "    trans_12M = df[(df.DATE >='2017-07-01') & (df.DATE <='2018-06-30')]\n",
    "\n",
    "    #Savings\n",
    "    save = trans_12M[trans_12M.EXP_TYPE =='Savings']\n",
    "    save = save.groupby(['CUST_ID','YEAR','MONTH'],as_index=False)['AMOUNT'].sum()\n",
    "    total_save = total_save.append(save)\n",
    "    total_save = total_save.groupby(['CUST_ID','YEAR','MONTH'],as_index=False)['AMOUNT'].sum()\n",
    "\n",
    "    #Cust base\n",
    "    cust = trans_12M.groupby(['CUST_ID','YEAR','MONTH'],as_index=False)['TRANS_ID'].count()\n",
    "    cust_base = cust_base.append(cust)\n",
    "    cust_base = cust_base.groupby(['CUST_ID','YEAR','MONTH'],as_index=False)['TRANS_ID'].count()\n",
    "    \n",
    "    count+=1\n",
    "    print(count,end=\" \")\n",
    "    #Exit loop\n",
    "    if len(df)!=steps:\n",
    "        break\n",
    "\n",
    "adjust_save = cust_base.join(total_save.set_index(['CUST_ID','YEAR','MONTH']),on=['CUST_ID','YEAR','MONTH'])\n",
    "adjust_save.fillna(0,inplace=True)\n",
    "agg_4 = adjust_save.groupby(['CUST_ID'],as_index=False)['AMOUNT'].mean()\n",
    "agg_4.columns=['CUST_ID','FEATURE_1']\n",
    "print()\n",
    "print(datetime.datetime.now() - begin)\n",
    "\n",
    "agg_4"
   ]
  },
  {
   "cell_type": "markdown",
   "metadata": {},
   "source": [
    "### Total gambling as a % of total expenditure in last 3 months\n"
   ]
  },
  {
   "cell_type": "code",
   "execution_count": 6,
   "metadata": {},
   "outputs": [
    {
     "name": "stdout",
     "output_type": "stream",
     "text": [
      "1 "
     ]
    },
    {
     "name": "stderr",
     "output_type": "stream",
     "text": [
      "/Users/conorosully/miniconda3/envs/Python3.7/lib/python3.7/site-packages/ipykernel_launcher.py:13: DtypeWarning: Columns (2) have mixed types.Specify dtype option on import or set low_memory=False.\n",
      "  del sys.path[0]\n"
     ]
    },
    {
     "name": "stdout",
     "output_type": "stream",
     "text": [
      "2 3 4 5 6 7 8 9 10 11 12 13 14 15 16 17 18 19 20 21 22 23 24 25 26 27 28 29 30 31 32 33 34 35 36 37 38 39 40 41 42 43 44 45 46 47 48 49 50 51 52 53 \n",
      "0:46:58.021983\n"
     ]
    },
    {
     "data": {
      "text/plain": [
       "Text(0.5, 0, 'Month in 2020')"
      ]
     },
     "execution_count": 6,
     "metadata": {},
     "output_type": "execute_result"
    },
    {
     "data": {
      "image/png": "[encoded data removed]",
      "text/plain": [
       "<Figure size 720x360 with 1 Axes>"
      ]
     },
     "metadata": {
      "needs_background": "light"
     },
     "output_type": "display_data"
    }
   ],
   "source": [
    "begin = datetime.datetime.now()\n",
    "\n",
    "steps = 5000000\n",
    "names = ['CUST_ID', 'START_DATE', 'END_DATE', 'TRANS_ID', 'DATE', 'YEAR',\n",
    "       'MONTH', 'DAY', 'EXP_TYPE', 'AMOUNT']\n",
    "\n",
    "total_exp = pd.DataFrame(columns=['CUST_ID','AMOUNT'])\n",
    "total_gamble = pd.DataFrame(columns=['CUST_ID','AMOUNT'])\n",
    "\n",
    "count = 0\n",
    "while True:\n",
    "    \n",
    "    df = get_rows(steps,count,names)\n",
    "    \n",
    "    #Get total saving each month \n",
    "    trans_3M = df[(df.DATE >='2018-04-01') & (df.DATE <='2018-06-30')]\n",
    "\n",
    "    #Total\n",
    "    exp = trans_3M.groupby(['CUST_ID'],as_index=False)['AMOUNT'].sum()\n",
    "    total_exp = total_exp.append(exp)\n",
    "    total_exp = total_exp.groupby(['CUST_ID'],as_index=False)['AMOUNT'].sum()\n",
    "\n",
    "    #Gambling\n",
    "    trans_gamble = trans_3M[trans_3M.EXP_TYPE == 'Gambling']\n",
    "    gamble = trans_gamble.groupby(['CUST_ID'],as_index=False)['AMOUNT'].sum()\n",
    "    total_gamble = total_gamble.append(gamble)\n",
    "    total_gamble = total_gamble.groupby(['CUST_ID'],as_index=False)['AMOUNT'].sum()\n",
    "    \n",
    "    count+=1\n",
    "    print(count,end=\" \")\n",
    "    #Exit loop\n",
    "    if len(df)!=steps:\n",
    "        break\n",
    "\n",
    "total_exp.columns = ['CUST_ID','TOTAL']\n",
    "total_gamble.columns = ['CUST_ID','GAMBLE']\n",
    "agg_5 = total_exp.join(total_gamble.set_index(['CUST_ID']),on=['CUST_ID'])\n",
    "agg_5.fillna(0,inplace=True)\n",
    "agg_5['FEATURE_2'] = agg_5['GAMBLE']/agg_5['TOTAL']\n",
    "\n",
    "\n",
    "print()\n",
    "print(datetime.datetime.now() - begin)"
   ]
  },
  {
   "cell_type": "code",
   "execution_count": 7,
   "metadata": {},
   "outputs": [
    {
     "data": {
      "image/png": "[encoded data removed]",
      "text/plain": [
       "<Figure size 720x360 with 1 Axes>"
      ]
     },
     "metadata": {
      "needs_background": "light"
     },
     "output_type": "display_data"
    }
   ],
   "source": [
    "plt.figure(figsize=(10, 5))\n",
    "agg_5['FEATURE_2'].hist()\n",
    "plt.ylabel('Number of Customers',size=15)\n",
    "plt.xlabel('Feature Value',size=15)\n",
    "\n",
    "plt.savefig(path+\"agg_5.png\",dpi=100)"
   ]
  },
  {
   "cell_type": "markdown",
   "metadata": {},
   "source": [
    "# Compare "
   ]
  },
  {
   "cell_type": "code",
   "execution_count": 2,
   "metadata": {},
   "outputs": [],
   "source": [
    "#Recorded times\n",
    "\n",
    "terality = ['0:00:27.465444',\n",
    "'0:00:18.523850',\n",
    "'0:00:44.957605',\n",
    "'0:00:46.327649', \n",
    "'0:01:16.776161', \n",
    "'0:00:48.856077']\n",
    "\n",
    "pandas = ['0:00:0',\n",
    "          '0:48:47.387897',\n",
    "         '0:51:05.659148',\n",
    "         '0:45:11.105703',\n",
    "         '0:46:47.881837',\n",
    "         '0:46:58.021983']"
   ]
  },
  {
   "cell_type": "code",
   "execution_count": 4,
   "metadata": {},
   "outputs": [],
   "source": [
    "#Convert time to minutes\n",
    "labels = ['1','2','3','4']\n",
    "terality = [18/60,44/60,46/60,48/60]\n",
    "pandas = [48+47/60,51+5/60,45+11/60,46+58/60]"
   ]
  },
  {
   "cell_type": "code",
   "execution_count": 5,
   "metadata": {},
   "outputs": [
    {
     "data": {
      "image/png": "[encoded data removed]",
      "text/plain": [
       "<Figure size 720x360 with 1 Axes>"
      ]
     },
     "metadata": {
      "needs_background": "light"
     },
     "output_type": "display_data"
    }
   ],
   "source": [
    "#Plot time\n",
    "plt.figure(figsize=(10, 5))\n",
    "\n",
    "x = np.arange(len(labels)) \n",
    "width = 0.4\n",
    "plt.bar(x-width/2,height= pandas,width=width,label='pandas')\n",
    "plt.bar(x+width/2,height= terality,width=width,label='terality')\n",
    "plt.legend()\n",
    "\n",
    "plt.ylabel('Time (Minutes)',size=15)\n",
    "plt.xlabel('Aggregation',size=15)\n",
    "plt.xticks(ticks=x,labels=labels)\n",
    "\n",
    "plt.savefig(path+\"Comparison.png\",dpi=100)"
   ]
  },
  {
   "cell_type": "code",
   "execution_count": null,
   "metadata": {},
   "outputs": [],
   "source": []
  }
 ],
 "metadata": {
  "kernelspec": {
   "display_name": "Python3.7",
   "language": "python",
   "name": "python3.7"
  },
  "language_info": {
   "codemirror_mode": {
    "name": "ipython",
    "version": 3
   },
   "file_extension": ".py",
   "mimetype": "text/x-python",
   "name": "python",
   "nbconvert_exporter": "python",
   "pygments_lexer": "ipython3",
   "version": "3.7.12"
  }
 },
 "nbformat": 4,
 "nbformat_minor": 2
}
