{
  "nbformat": 4,
  "nbformat_minor": 0,
  "metadata": {
    "colab": {
      "provenance": [],
      "authorship_tag": "ABX9TyMhps8D4Vr9kHXcosyZGsmk",
      "include_colab_link": true
    },
    "kernelspec": {
      "name": "python3",
      "display_name": "Python 3"
    },
    "language_info": {
      "name": "python"
    }
  },
  "cells": [
    {
      "cell_type": "markdown",
      "metadata": {
        "id": "view-in-github",
        "colab_type": "text"
      },
      "source": [
        "<a href=\"https://colab.research.google.com/github/Mohamediaaraben/mohamed_pca_lda/blob/master/PCA-SVM-3D.ipynb\" target=\"_parent\"><img src=\"https://colab.research.google.com/assets/colab-badge.svg\" alt=\"Open In Colab\"/></a>"
      ]
    },
    {
      "cell_type": "code",
      "execution_count": null,
      "metadata": {
        "id": "OCCrLiXHYhf7"
      },
      "outputs": [],
      "source": [
        "Principal Component Analysis (PCA)"
      ]
    },
    {
      "cell_type": "code",
      "source": [
        "import pandas as pd\n",
        "import numpy as np\n",
        "import matplotlib.pyplot as plt\n",
        "import seaborn as sns\n",
        "%matplotlib inline"
      ],
      "metadata": {
        "id": "wUM57xn7YlDj"
      },
      "execution_count": null,
      "outputs": []
    },
    {
      "cell_type": "code",
      "source": [
        "from sklearn.datasets import load_iris\n",
        "iris_bunch=load_iris()"
      ],
      "metadata": {
        "id": "rT2zIfSLZE57"
      },
      "execution_count": null,
      "outputs": []
    },
    {
      "cell_type": "code",
      "source": [
        "x=iris_bunch.data\n",
        "y=iris_bunch.target"
      ],
      "metadata": {
        "id": "kMsywOL5ZG1j"
      },
      "execution_count": null,
      "outputs": []
    },
    {
      "cell_type": "code",
      "source": [
        "from sklearn.model_selection import train_test_split\n",
        "x_train,x_test,y_train,y_test = train_test_split(x,y,test_size=0.25,random_state=5)"
      ],
      "metadata": {
        "id": "CJY5Pe5pZKFE"
      },
      "execution_count": null,
      "outputs": []
    },
    {
      "cell_type": "code",
      "source": [
        "from sklearn.preprocessing import StandardScaler\n",
        "sc = StandardScaler()\n",
        "x_train=sc.fit_transform(x_train)\n",
        "x_test= sc.transform(x_test)"
      ],
      "metadata": {
        "id": "qkvEmoXNZRf-"
      },
      "execution_count": null,
      "outputs": []
    },
    {
      "cell_type": "code",
      "source": [
        "from sklearn.decomposition import PCA"
      ],
      "metadata": {
        "id": "4ee7WxOmZeUt"
      },
      "execution_count": null,
      "outputs": []
    },
    {
      "cell_type": "code",
      "source": [
        "pca = PCA()\n"
      ],
      "metadata": {
        "id": "BgQlIo73ZlJf"
      },
      "execution_count": null,
      "outputs": []
    },
    {
      "cell_type": "code",
      "source": [
        "x_train_pca = pca.fit_transform(x_train)\n",
        "x_test_pca = pca.fit_transform(x_test)"
      ],
      "metadata": {
        "id": "zdon9hSvZoh5"
      },
      "execution_count": null,
      "outputs": []
    },
    {
      "cell_type": "code",
      "source": [
        "pca.explained_variance_ratio_\n"
      ],
      "metadata": {
        "id": "201kt-zYZq9O"
      },
      "execution_count": null,
      "outputs": []
    },
    {
      "cell_type": "code",
      "source": [
        "\n",
        "array([0.78940444, 0.15632033, 0.04831763, 0.0059576 ])"
      ],
      "metadata": {
        "id": "8064WRCeZ0Tn"
      },
      "execution_count": null,
      "outputs": []
    },
    {
      "cell_type": "markdown",
      "source": [
        "![téléchargement.png](data:image/png;base64,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)"
      ],
      "metadata": {
        "id": "WoFAUj4vZ-Ma"
      }
    },
    {
      "cell_type": "code",
      "source": [
        "pca1 = PCA(n_components=2)\n",
        "\n",
        "x_train_pca1 = pca1.fit_transform(x_train)\n",
        "x_test_pca1 = pca1.fit_transform(x_test)"
      ],
      "metadata": {
        "id": "zNDZC6lxZ-v2"
      },
      "execution_count": null,
      "outputs": []
    },
    {
      "cell_type": "code",
      "source": [
        "pca1.explained_variance_ratio_"
      ],
      "metadata": {
        "id": "XEBVDf0naC_a"
      },
      "execution_count": null,
      "outputs": []
    },
    {
      "cell_type": "code",
      "source": [
        "\n",
        "array([0.78940444, 0.15632033])"
      ],
      "metadata": {
        "id": "4rDOm-dhaFMf",
        "colab": {
          "base_uri": "https://localhost:8080/",
          "height": 141
        },
        "outputId": "84e6b6ca-c76d-4620-f35b-db9227b4be12"
      },
      "execution_count": null,
      "outputs": [
        {
          "output_type": "error",
          "ename": "NameError",
          "evalue": "name 'array' is not defined",
          "traceback": [
            "\u001b[0;31m---------------------------------------------------------------------------\u001b[0m",
            "\u001b[0;31mNameError\u001b[0m                                 Traceback (most recent call last)",
            "\u001b[0;32m<ipython-input-7-28dba3775c39>\u001b[0m in \u001b[0;36m<cell line: 1>\u001b[0;34m()\u001b[0m\n\u001b[0;32m----> 1\u001b[0;31m \u001b[0marray\u001b[0m\u001b[0;34m(\u001b[0m\u001b[0;34m[\u001b[0m\u001b[0;36m0.78940444\u001b[0m\u001b[0;34m,\u001b[0m \u001b[0;36m0.15632033\u001b[0m\u001b[0;34m]\u001b[0m\u001b[0;34m)\u001b[0m\u001b[0;34m\u001b[0m\u001b[0;34m\u001b[0m\u001b[0m\n\u001b[0m",
            "\u001b[0;31mNameError\u001b[0m: name 'array' is not defined"
          ]
        }
      ]
    },
    {
      "cell_type": "code",
      "source": [
        "x_train_pca1.shape\n"
      ],
      "metadata": {
        "id": "ra6C3tVEaHRj"
      },
      "execution_count": null,
      "outputs": []
    },
    {
      "cell_type": "code",
      "source": [
        "(112, 2)\n"
      ],
      "metadata": {
        "id": "BO-ugJ3haJUt"
      },
      "execution_count": null,
      "outputs": []
    },
    {
      "cell_type": "code",
      "source": [
        "x_test_pca1.shape\n"
      ],
      "metadata": {
        "id": "uF2Zv5nUaKNa"
      },
      "execution_count": null,
      "outputs": []
    },
    {
      "cell_type": "code",
      "source": [
        "(38, 2)\n"
      ],
      "metadata": {
        "id": "DyW28xSfaMLJ"
      },
      "execution_count": null,
      "outputs": []
    },
    {
      "cell_type": "code",
      "source": [
        "from sklearn.neighbors import KNeighborsClassifier\n",
        "\n",
        "knn= KNeighborsClassifier()\n",
        "knn.fit(x_train_pca1,y_train)"
      ],
      "metadata": {
        "id": "B7CZEJUbaOSZ"
      },
      "execution_count": null,
      "outputs": []
    },
    {
      "cell_type": "code",
      "source": [
        "\n",
        "KNeighborsClassifier()"
      ],
      "metadata": {
        "id": "9pblg1q_aTh-"
      },
      "execution_count": null,
      "outputs": []
    },
    {
      "cell_type": "code",
      "source": [
        "y_pred = knn.predict(x_test_pca1)"
      ],
      "metadata": {
        "id": "dzHogl24aVJd"
      },
      "execution_count": null,
      "outputs": []
    },
    {
      "cell_type": "code",
      "source": [
        "from sklearn.metrics import accuracy_score\n"
      ],
      "metadata": {
        "id": "gHNGQ0S7aXIT"
      },
      "execution_count": null,
      "outputs": []
    },
    {
      "cell_type": "code",
      "source": [
        "print(\"Accuracy :\",accuracy_score(y_test,y_pred)*100,'%')"
      ],
      "metadata": {
        "id": "L3otsD2jaX1W"
      },
      "execution_count": null,
      "outputs": []
    },
    {
      "cell_type": "markdown",
      "source": [
        "\n",
        "Accuracy : 86.8421052631579 %"
      ],
      "metadata": {
        "id": "-fb2dchZacOb"
      }
    },
    {
      "cell_type": "code",
      "source": [
        "plt.scatter(x_train_pca1[:,0],x_train_pca1[:,1],c=y_train,\n",
        "           cmap='rainbow')\n",
        "plt.title('Visualizing PCA Components')\n",
        "plt.xlabel('First Principal Component')\n",
        "plt.ylabel('Second Principal Components')"
      ],
      "metadata": {
        "id": "THCKVhumafm1"
      },
      "execution_count": null,
      "outputs": []
    },
    {
      "cell_type": "markdown",
      "source": [
        "https://colab.research.google.com/drive/1bQG2cLOxbmuakyfYGX5tHevwnjO_DV_8#scrollTo=_GYRtk-Eajso&line=2&uniqifier=1"
      ],
      "metadata": {
        "id": "QWSXCULEa5KY"
      }
    },
    {
      "cell_type": "code",
      "source": [
        "https://colab.research.google.com/drive/1bQG2cLOxbmuakyfYGX5tHevwnjO_DV_8#scrollTo=_GYRtk-Eajso&line=2&uniqifier=1"
      ],
      "metadata": {
        "id": "gz5idRIcbqCm"
      },
      "execution_count": null,
      "outputs": []
    },
    {
      "cell_type": "code",
      "source": [
        "array([0.78940444, 0.15632033, 0.04831763, 0.0059576 ])"
      ],
      "metadata": {
        "id": "2pYm1s1tbrWm"
      },
      "execution_count": null,
      "outputs": []
    },
    {
      "cell_type": "markdown",
      "source": [
        "Linear Discriminant Analysis (LDA)"
      ],
      "metadata": {
        "id": "3Uhr68Ywbzb6"
      }
    },
    {
      "cell_type": "code",
      "source": [
        "from sklearn.preprocessing import StandardScaler\n",
        "sc = StandardScaler()\n",
        "x_train=sc.fit_transform(x_train)\n",
        "x_test= sc.transform(x_test)\n"
      ],
      "metadata": {
        "id": "Stsnpln6b9Wi"
      },
      "execution_count": null,
      "outputs": []
    },
    {
      "cell_type": "code",
      "source": [
        "from sklearn.discriminant_analysis import LinearDiscriminantAnalysis as LDA\n"
      ],
      "metadata": {
        "id": "jaCHYiUycCCP"
      },
      "execution_count": null,
      "outputs": []
    },
    {
      "cell_type": "code",
      "source": [
        "lda = LDA()\n",
        "\n",
        "x_train_lda = lda.fit_transform(x_train,y_train)\n",
        "x_test_lda = lda.transform(x_test)\n",
        "\n",
        "print(lda.explained_variance_ratio_)"
      ],
      "metadata": {
        "id": "VcYFivS3cGVw"
      },
      "execution_count": null,
      "outputs": []
    },
    {
      "cell_type": "code",
      "source": [
        "[0.98969627 0.01030373]\n"
      ],
      "metadata": {
        "colab": {
          "base_uri": "https://localhost:8080/",
          "height": 106
        },
        "id": "H8ywxFGxcJXd",
        "outputId": "2ccdb2ff-8bb5-4284-b9b2-f54dc3538220"
      },
      "execution_count": null,
      "outputs": [
        {
          "output_type": "error",
          "ename": "SyntaxError",
          "evalue": "invalid syntax. Perhaps you forgot a comma? (<ipython-input-8-66af017e122d>, line 1)",
          "traceback": [
            "\u001b[0;36m  File \u001b[0;32m\"<ipython-input-8-66af017e122d>\"\u001b[0;36m, line \u001b[0;32m1\u001b[0m\n\u001b[0;31m    [0.98969627 0.01030373]\u001b[0m\n\u001b[0m     ^\u001b[0m\n\u001b[0;31mSyntaxError\u001b[0m\u001b[0;31m:\u001b[0m invalid syntax. Perhaps you forgot a comma?\n"
          ]
        }
      ]
    },
    {
      "cell_type": "code",
      "source": [
        "from sklearn.neighbors import KNeighborsClassifier\n",
        "\n",
        "knn= KNeighborsClassifier()\n",
        "knn.fit(x_train_lda,y_train)"
      ],
      "metadata": {
        "id": "5UvwgeZ0cM1y"
      },
      "execution_count": null,
      "outputs": []
    },
    {
      "cell_type": "code",
      "source": [
        "\n",
        "KNeighborsClassifier()"
      ],
      "metadata": {
        "id": "f4ai8LwpcO7Z"
      },
      "execution_count": null,
      "outputs": []
    },
    {
      "cell_type": "code",
      "source": [
        "\n",
        "y_pred = knn.predict(x_test_lda)\n",
        "print('Accuracy:',accuracy_score(y_test,y_pred))"
      ],
      "metadata": {
        "id": "cBCK3V6KcTiV"
      },
      "execution_count": null,
      "outputs": []
    },
    {
      "cell_type": "code",
      "source": [
        "Accuracy: 0.9473684210526315"
      ],
      "metadata": {
        "id": "EtNq7WmBcV3e"
      },
      "execution_count": null,
      "outputs": []
    },
    {
      "cell_type": "code",
      "source": [
        "plt.scatter(x_train_lda[:,0],x_train_lda[:,1],c=y_train,cmap='rainbow')\n",
        "plt.xlabel('First LDA Component')\n",
        "plt.ylabel('Second LDA Component')\n"
      ],
      "metadata": {
        "id": "02jJuVuMcYSc"
      },
      "execution_count": null,
      "outputs": []
    },
    {
      "cell_type": "code",
      "source": [
        "Text(0, 0.5, 'Second LDA Component')\n"
      ],
      "metadata": {
        "colab": {
          "base_uri": "https://localhost:8080/",
          "height": 141
        },
        "id": "JhPtE-qbcaVy",
        "outputId": "adf37a9d-4fa5-4a1e-bf9c-3475852af2f9"
      },
      "execution_count": 11,
      "outputs": [
        {
          "output_type": "error",
          "ename": "NameError",
          "evalue": "name 'Text' is not defined",
          "traceback": [
            "\u001b[0;31m---------------------------------------------------------------------------\u001b[0m",
            "\u001b[0;31mNameError\u001b[0m                                 Traceback (most recent call last)",
            "\u001b[0;32m<ipython-input-11-05cb0bd421a8>\u001b[0m in \u001b[0;36m<cell line: 1>\u001b[0;34m()\u001b[0m\n\u001b[0;32m----> 1\u001b[0;31m \u001b[0mText\u001b[0m\u001b[0;34m(\u001b[0m\u001b[0;36m0\u001b[0m\u001b[0;34m,\u001b[0m \u001b[0;36m0.5\u001b[0m\u001b[0;34m,\u001b[0m \u001b[0;34m'Second LDA Component'\u001b[0m\u001b[0;34m)\u001b[0m\u001b[0;34m\u001b[0m\u001b[0;34m\u001b[0m\u001b[0m\n\u001b[0m",
            "\u001b[0;31mNameError\u001b[0m: name 'Text' is not defined"
          ]
        }
      ]
    },
    {
      "cell_type": "markdown",
      "source": [
        "Text(0, 0.5, 'Second LDA Component')\n"
      ],
      "metadata": {
        "id": "us0oJFjAcqeg"
      }
    },
    {
      "cell_type": "code",
      "source": [],
      "metadata": {
        "id": "rx21X8HlcytF"
      },
      "execution_count": null,
      "outputs": []
    },
    {
      "cell_type": "markdown",
      "source": [
        "[texte du lien](https://data:image/png;base64,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)"
      ],
      "metadata": {
        "id": "ARpDOrsMc37J"
      }
    },
    {
      "cell_type": "markdown",
      "source": [
        "**SVM**  \n",
        " Dans ce code :\n",
        "\n",
        "Chargement du dataset Iris : On utilise datasets.load_iris() de scikit-learn.\n",
        "Préparation des données : On divise les données en ensembles d'entraînement et de test.\n",
        "Création et entraînement du modèle SVM : On utilise SVC avec un noyau linéaire.\n",
        "Évaluation du modèle : On calcule la précision du modèle sur l'ensemble de test et on l'affiche.\n"
      ],
      "metadata": {
        "id": "d7We7zW4jURq"
      }
    },
    {
      "cell_type": "code",
      "source": [
        "from sklearn import datasets\n",
        "from sklearn.model_selection import train_test_split\n",
        "from sklearn.svm import SVC\n",
        "from sklearn.metrics import accuracy_score\n",
        "\n",
        "# Charger le dataset Iris\n",
        "iris = datasets.load_iris()\n",
        "X = iris.data\n",
        "y = iris.target\n",
        "\n",
        "# Diviser les données en ensembles d'entraînement et de test\n",
        "X_train, X_test, y_train, y_test = train_test_split(X, y, test_size=0.2, random_state=42)\n",
        "\n",
        "# Créer le modèle SVM avec un noyau linéaire\n",
        "svm_model = SVC(kernel='linear')\n",
        "\n",
        "# Entraîner le modèle SVM\n",
        "svm_model.fit(X_train, y_train)\n",
        "\n",
        "# Prédire les étiquettes des données de test\n",
        "y_pred = svm_model.predict(X_test)\n",
        "\n",
        "# Calculer et afficher la précision du modèle\n",
        "accuracy = accuracy_score(y_test, y_pred)\n",
        "print(f'Accuracy: {accuracy:.2f}')\n"
      ],
      "metadata": {
        "id": "BXrAMnnbm5-4"
      },
      "execution_count": null,
      "outputs": []
    },
    {
      "cell_type": "markdown",
      "source": [
        "Pour visualiser les données du dataset Iris en 3D après avoir appliqué un modèle SVM, nous pouvons utiliser matplotlib pour créer une visualisation tridimensionnelle des trois premières composantes principales obtenues avec PCA. Voici un exemple de code complet pour réaliser cela :"
      ],
      "metadata": {
        "id": "2byiFmD6mALD"
      }
    },
    {
      "cell_type": "code",
      "source": [
        "import numpy as np\n",
        "from sklearn.datasets import load_iris\n",
        "from sklearn.decomposition import PCA\n",
        "from sklearn.model_selection import train_test_split\n",
        "from sklearn.svm import SVC\n",
        "from sklearn.preprocessing import StandardScaler\n",
        "import matplotlib.pyplot as plt\n",
        "from mpl_toolkits.mplot3d import Axes3D\n",
        "\n",
        "# Charger le dataset Iris\n",
        "iris = load_iris()\n",
        "X = iris.data\n",
        "y = iris.target\n",
        "\n",
        "# Standardiser les données\n",
        "scaler = StandardScaler()\n",
        "X_scaled = scaler.fit_transform(X)\n",
        "\n",
        "# Réduire la dimensionnalité avec PCA à 3 composantes\n",
        "pca = PCA(n_components=3)\n",
        "X_pca = pca.fit_transform(X_scaled)\n",
        "\n",
        "# Diviser les données en ensembles d'entraînement et de test\n",
        "X_train, X_test, y_train, y_test = train_test_split(X_pca, y, test_size=0.3, random_state=0)\n",
        "\n",
        "# Créer le modèle SVM\n",
        "svm_model = SVC(kernel='linear')\n",
        "svm_model.fit(X_train, y_train)\n",
        "\n",
        "# Préparer la visualisation en 3D\n",
        "fig = plt.figure()\n",
        "ax = fig.add_subplot(111, projection='3d')\n",
        "\n",
        "# Couleurs pour chaque classe\n",
        "colors = ['r', 'g', 'b']\n",
        "\n",
        "# Plot chaque classe\n",
        "for i, color in enumerate(colors):\n",
        "    ax.scatter(X_pca[y == i, 0], X_pca[y == i, 1], X_pca[y == i, 2], c=color, label=iris.target_names[i])\n",
        "\n",
        "ax.set_xlabel('Première composante principale')\n",
        "ax.set_ylabel('Deuxième composante principale')\n",
        "ax.set_zlabel('Troisième composante principale')\n",
        "ax.legend()\n",
        "\n",
        "plt.show()\n"
      ],
      "metadata": {
        "id": "1sEKZ8Ukl3yr"
      },
      "execution_count": null,
      "outputs": []
    },
    {
      "cell_type": "markdown",
      "source": [
        "Ce code effectue les étapes suivantes :\n",
        "\n",
        "Chargement et standardisation des données : Les données sont standardisées pour une moyenne de zéro et une variance unitaire, ce qui est souvent nécessaire pour de bonnes performances de PCA.\n",
        "Application de PCA : La dimensionnalité des données est réduite à trois composantes principales.\n",
        "Entraînement du modèle SVM : Le modèle est entraîné sur l'ensemble d'entraînement.\n",
        "Visualisation en 3D : Les trois composantes principales sont visualisées en utilisant un graphique tridimensionnel, avec des couleurs différentes pour chaque classe de l'Iris dataset.\n",
        "Cela vous permettra de voir comment les classes sont distribuées dans l'espace tridimensionnel et d'observer l'efficacité de la réduction de dimensionnalité par PCA couplée avec le modèle SVM.\n",
        "\n",
        "\n",
        "\n",
        "\n",
        "\n",
        "\n"
      ],
      "metadata": {
        "id": "W5DfXNwtmLT-"
      }
    }
  ]
}